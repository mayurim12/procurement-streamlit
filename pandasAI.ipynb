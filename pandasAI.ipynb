{
 "cells": [
  {
   "cell_type": "code",
   "execution_count": 1,
   "id": "a262af33",
   "metadata": {},
   "outputs": [],
   "source": [
    "# !pip install pandasai\n"
   ]
  },
  {
   "cell_type": "code",
   "execution_count": 1,
   "id": "8c005cf3",
   "metadata": {},
   "outputs": [
    {
     "name": "stdout",
     "output_type": "stream",
     "text": [
      "Name: pandasai\n",
      "Version: 2.3.0\n",
      "Summary: Chat with your database (SQL, CSV, pandas, polars, mongodb, noSQL, etc). PandasAI makes data analysis conversational using LLMs (GPT 3.5 / 4, Anthropic, VertexAI) and RAG.\n",
      "Home-page: \n",
      "Author: Gabriele Venturi\n",
      "Author-email: \n",
      "License: MIT\n",
      "Location: C:\\Users\\mayumadh\\AppData\\Local\\Packages\\PythonSoftwareFoundation.Python.3.11_qbz5n2kfra8p0\\LocalCache\\local-packages\\Python311\\site-packages\n",
      "Requires: astor, duckdb, faker, jinja2, matplotlib, openai, pandas, pillow, pydantic, python-dotenv, requests, scipy, sqlalchemy, sqlglot\n",
      "Required-by: \n",
      "Note: you may need to restart the kernel to use updated packages.\n"
     ]
    }
   ],
   "source": [
    "pip show pandasai"
   ]
  },
  {
   "cell_type": "code",
   "execution_count": 2,
   "id": "75267ac6",
   "metadata": {},
   "outputs": [],
   "source": [
    "import pandas as pd"
   ]
  },
  {
   "cell_type": "code",
   "execution_count": 4,
   "id": "f1f37bd0",
   "metadata": {},
   "outputs": [],
   "source": [
    "df = pd.read_excel('Sample Data_Copilot.xlsx')"
   ]
  },
  {
   "cell_type": "code",
   "execution_count": 35,
   "id": "e411e7cd",
   "metadata": {},
   "outputs": [],
   "source": [
    "def get_csv_schema(df) -> str:\n",
    "    \"\"\"\n",
    "    Generate schema details from the CSV.\n",
    "    \"\"\"\n",
    "    # Fetching column names and their types\n",
    "    schema_details = \"The CSV contains the following columns:\\n\"\n",
    "    # Iterating over the columns and their types\n",
    "    for column in df.columns:\n",
    "        dtype = df[column].dtype\n",
    "        schema_details += f\"- Column: *{column}*, Data Type: *{dtype}*\\n\"\n",
    "        if dtype == object:\n",
    "            schema_details += f\"Unique Values: {df[column].unique()}\"\n",
    "    # Highlighting important columns (e.g., month columns and dimensions)\n",
    "    month_columns = [\n",
    "        col\n",
    "        for col in df.columns\n",
    "        if col\n",
    "        in [\n",
    "            \"Jan\",\n",
    "            \"Feb\",\n",
    "            \"Mar\",\n",
    "            \"Apr\",\n",
    "            \"May\",\n",
    "            \"Jun\",\n",
    "            \"Jul\",\n",
    "            \"Aug\",\n",
    "            \"Sep\",\n",
    "            \"Oct\",\n",
    "            \"Nov\",\n",
    "            \"Dec\",\n",
    "        ]\n",
    "    ]\n",
    "    dimension_columns = [col for col in df.columns if col not in month_columns]\n",
    "    schema_details += \"\\n=== Special Columns ===\\n\"\n",
    "    schema_details += f\"Dimensions: {', '.join(dimension_columns)}\\n\"\n",
    "\n",
    "    return schema_details"
   ]
  },
  {
   "cell_type": "code",
   "execution_count": 36,
   "id": "38d496f3",
   "metadata": {},
   "outputs": [
    {
     "name": "stdout",
     "output_type": "stream",
     "text": [
      "(2384, 15)\n",
      "<class 'pandas.core.frame.DataFrame'>\n",
      "RangeIndex: 2384 entries, 0 to 2383\n",
      "Data columns (total 15 columns):\n",
      " #   Column                        Non-Null Count  Dtype         \n",
      "---  ------                        --------------  -----         \n",
      " 0   Cg_Normalized_Vendor          2384 non-null   object        \n",
      " 1   PO_L1                         2384 non-null   object        \n",
      " 2   PO_L2                         2384 non-null   object        \n",
      " 3   PO_L3                         2384 non-null   object        \n",
      " 4   PO_L4                         2384 non-null   object        \n",
      " 5   G/L Acct Long Text            2384 non-null   object        \n",
      " 6   Company Code                  2384 non-null   object        \n",
      " 7   Country Short                 2384 non-null   object        \n",
      " 8   Document number               2384 non-null   object        \n",
      " 9   Purchasing Document           2384 non-null   object        \n",
      " 10  Posting Date                  2384 non-null   datetime64[ns]\n",
      " 11  Payment terms                 2317 non-null   object        \n",
      " 12  Payment term No. of Days      2276 non-null   float64       \n",
      " 13  Payment term Own Explanation  2276 non-null   object        \n",
      " 14  Spend                         2384 non-null   float64       \n",
      "dtypes: datetime64[ns](1), float64(2), object(12)\n",
      "memory usage: 279.5+ KB\n",
      "None\n"
     ]
    }
   ],
   "source": [
    "print(df.shape)\n",
    "print(df.info())"
   ]
  },
  {
   "cell_type": "code",
   "execution_count": 37,
   "id": "915514cb",
   "metadata": {},
   "outputs": [
    {
     "data": {
      "text/plain": [
       "\"The CSV contains the following columns:\\n- Column: *Cg_Normalized_Vendor*, Data Type: *object*\\nUnique Values: ['HAUPTZOLLAMT GIESSEN' 'HAEMONETICS CORP'\\n 'PERSONALVORSORGESTIFTUNG DER CSL BEHRING AG' 'FIDELITY FPRS'\\n 'JONES LANG LASALLE AMERICAS INC' 'ZOLLAMT MARBURG' 'CDW LLC'\\n 'UFCW NATIONAL HEALTH AND WELFARE FUND'\\n 'STEUERVERWALTUNG DES KANTONS BERN ABTEILUNG QUELLENSTEUERN'\\n 'BEAR CONSTRUCTION' 'PENSIONSKASSE DMITARBEITE' 'EWB ENERGIE WASSER BERN'\\n 'PATHEON UK LTD' 'HEMASOURCE INC' 'HOF SONDERANLAGENBAU' 'SARTORIUS AG'\\n 'Not Available' 'PHARMASERV GMBH' 'CSL LTD' 'VMWARE INTERNATIONAL LTD'\\n 'BARKER CONTRACTING INC' 'RAMBOLL AMERICAS INTEGRATED SOLUTIO AMERICA'\\n 'PATHEON MANUFACTURING SERVICES LLC' 'PAYMENT SLIP CONSUMPTION TAX'\\n 'CSL BEHRING' 'WHEELS INC' 'ROCHE DIAGNOSTICS CORP' 'PALL CORP'\\n 'MITIE WASTE AND ENVIRONMENTAL' 'AHEAD INC' 'NWR INC'\\n 'OTTO BUILDING TECHNOLOGIES GMBH' 'MATTCON GENERAL CONTRACTORS'\\n 'SPOTLESS FACILITY SERVICES PTY LTD' 'ABBOTT' 'JAG JACOB AG'\\n 'BALLARD SPAHR LLP' 'BASTIAN SOLUTIONS INC' 'U S WATER SERVICES CORP'\\n 'TECAN GROUP' 'ZIMMERMANN GMBH' 'PHARMAPLAN AG' 'MESA LABORATORIES INC'\\n 'SIEMENS' 'ASTROMEC AG' 'SYNTEGON TECHNOLOGY GMBH'\\n 'MANPOWER GROUP CO LTD' 'ONESTA ABBRUCH GMBH' 'VIALTO PARTNERS PTY LTD'\\n 'AGILENT TECHNOLOGIES INC' 'OPTIMA' 'CORVEL ENTERPRISE COMP INC'\\n 'EUREST SERVICES' 'TERUMO BCT INC' 'ASHFIELD HEALTHCARE LTD' 'ZETA GMBH'\\n 'VEOLIA WATER TECHNOLOGIES' 'ASTRO PAK CORP' 'NETGO MITTE GMBH'\\n 'COMMONEO LLC' 'EMCOR FACILITIES SERVICES INC' 'PIGGUSH SIMONEAU INC'\\n 'RS INTEGRATED SUPPLY UK LTD' 'TROMMERSHAUSER AND FUS GMBH AND CO KG'\\n 'SMARTSHEET INC' 'BCRR INC' 'NB EXKLUSIV NORD GMBH'\\n 'SIRVA RELOCATION PTY LTD' 'M KLEIN ELEKTRO SERVICE'\\n 'SMART SKIN TECHNOLOGIES' 'BRAND SOLUCIONES AVANZADAS'\\n 'SHANNON EXECUTIVE SEARCH LTD' 'CLIMATE CONTROL OF PENSACOLA INC'\\n 'AMS MECHANICAL SYSTEMS INC' 'HOGAN LOVELLS INTERNATIONAL LLP'\\n 'COMPUTER DESIGN AND INTEGRATION LLC' 'THEHUB MARKETING' 'REMONTEC AG'\\n 'BOKATA GMBH' 'ACCENTURE PLC' 'NAIM BAJRAMI TROCKENBAU' 'CONTROL RISKS'\\n 'ULTRACLEAN ELECTROPOLISH INC' 'ELEKTROBAU GUNDLACH GMBH'\\n 'ENCOMPASS COMMUNICATIONS AND LEARNING' 'WE MAKE IT GMBH'\\n 'RODE KRUIS VLAANDEREN' 'M AND O INSULATION CO'\\n 'TOBIN AND SONS MOVING AND STORAGE INC' 'ZIMMERMANN MESSTECHNIK AG'\\n 'ARLINGTON SCIENTIFIC INC' 'FLIK INTERNATIONAL CORP'\\n 'MOTUS ENGINEERING GMBH AND CO KG' 'ALLSCRIPTS HEALTHCARE LLC'\\n 'CANON INC' 'BAUSCH STROBEL SE CO KG' 'CHARLES RIVER LABORATORIES INC'\\n 'DAROB INC' 'VISAVVI LTD' 'NOBAG NOBS ENGINEERING AG'\\n 'STONHARD DIVISION OF STONCOR GROUP' 'PREMIUM PHARMASER SUARL'\\n 'BIOCHROM LTD' 'TMF PANAMA S DE RL' 'GEORG UTZ GMBH' 'GREIF'\\n 'PERSOPLAN GMBH' 'REAL STAFFING GROUP DER STHREE GMBH'\\n 'PROCESS SOLUTIONS' 'CSL GESP JAPANESE TRUST ACCOUNT'\\n 'ROBERT MICHAEL EDUCATIONAL INSTITUTE LLC' 'ANTON PAAR GMBH'\\n 'PHARMA RELATIONS AB' 'LITTLER MENDELSON PC' 'HERZOG BAU U HOLZBAU AG'\\n 'ROLAND' 'METTLER TOLEDO' 'TOLIN MECHANICAL SYSTEM' 'JOHNSON CONTROLS'\\n 'JUNGHEINRICH AG' 'CID ENTERPRISES VIC PTY LTD' 'SIDLEY AUSTIN LLP'\\n 'ASCOM SOLUTIONS AG' 'RESOURCE ELECTRIC LLC' 'SODEXO'\\n 'BAKER AND MCKENZIE' 'BW SERVICE AG'\\n 'HOCHSTER PENSIONS BENEFITS SERVICES GMBH' 'CONSORTIUM GASTRONOMIE GMBH'\\n 'VENTURANCE' 'THERMO FISHER SCIENTIFIC' 'PROCON AG' 'SPORTCLUB CSL'\\n 'AXIOM GLOBAL INC' 'HOLT LEE CONSTRUCTION INC' 'WATERS TECHNOLOGIES CORP'\\n 'HEALTHCARE ALLIANCE GROUP LLC' 'TECHNICAL SAFETY SERVICES INC'\\n 'IRON MOUNTAIN INC' 'ABSG CONSULTING INC'\\n 'SHERMCO INDUSTRIES CHICAGO SERVICE CENTER' 'MEETINGPHARMA GROUP SL'\\n 'STEARNS WEAVER MILLER WEISSLER ALHADEFF AND SITTERSON PA' 'BWT AQUA AG'\\n 'KONIG BUROTECHNIK KG' 'IMPRES INC' 'INTERSTATE RESTORATION LLC'\\n 'TRIUMVIRATE ENVIRONMENTAL INC' 'INSOURCE SOFTWARE SOLUTIONS INC'\\n 'SENSITECH INC' 'STRADIS MED' 'AGI AG' 'WATSON MARLOW INC'\\n 'AVORIS RETAIL DIVISION SL' 'SNELL AND WILMER' 'LECO CORP' 'BRUKER'\\n 'SENN KONSTRUKTIONSWERKSTATTE AG' 'FERGUSON US HOLDINGS INC'\\n 'CONTROL IT AUSTRALIA PTY LTD' 'THE TRUSTEE FOR CONTROL IT AUSTRAL'\\n 'PERKIN ELMER' 'HONEYWELL INTERNATIONAL INC' 'G B MEDIENTECHNIK GMBH'\\n 'KOKUYO MARKETING' 'CHARLES RIVER MICROBIAL SOLUTIONS INTERNATIONAL LTD'\\n 'SVA AUTOMATION AG' 'LINDNER SE' 'EATON CORP PLC' 'GENSLER GMBH'\\n 'PONT ENERGIETECHNIK AG' 'F E MORAN INC SPECIAL HAZARD SYSTEMS'\\n 'L BAU SONDERMASCHINEN GMBH AND CO KG' 'ISLA FRIO REFRIGERATION CORP'\\n 'IMD INTERNATIONAL INSTITUTE FOR MANAGEMENT DEVELOPMENT'\\n 'TURNER ELECTRIC CO' 'DEWAISOL AG DECKEN WÄNDE ISOLATIONEN'\\n 'SERVICE BUILDING MAINTENANCE INC' 'PASSMORE COLLEGE'\\n 'INNOVA IT SERVICES LLC' 'DH GRIFFIN CONTRACTING INC'\\n 'INFOSYS TECHNOLOGIES LTD' 'ATECO TOBLER AG' 'BRITISH AIRWAYS'\\n 'DEBAG INDUSTRIEAUTOMATIONS AG' 'INTEGRATED SECURITY HOLDING GROUP LLC'\\n 'TOP TECH SOL AG' 'ACOEM USA INC' 'WIRZ AG BAUUNTERNEHMUNG'\\n 'JMP EQUIPMENT CO LLC' 'GETINGE AB' 'HAYS PLC' 'PROCLINICAL'\\n 'DELL FINANCIAL SERVICES LTD' 'SINGAPORE AIRLINES LTD'\\n 'AMERICAN EXPRESS GLOBAL BUSINESS TRAVEL' 'SCHWITZKE PROJECT GMBH'\\n 'EQUANS SERVICES AG' 'PRECISION AIR TECHNOLOGY INC' 'AUGURY INC'\\n 'ASAHI KASEI BIOPROCESS AMERICA INC' 'POWERGIA GMBH' 'SAMANO ABOGADOS SC'\\n 'DVL GROUP INC' 'ENZLER REINIGUNGEN AG' 'CENTIMARK CORP'\\n 'HRTMANAGERS GMBH' 'ELEKTRO BURKHALTER AG' 'FUSION CLOUD SERVICES LLC'\\n 'MAJESTIC MECHANICAL' 'INATEC SA' 'AMSONIC AG' 'MEDCOR INC'\\n 'ENDRESS AND HAUSER INC' 'TECTON ABDICHTUNGEN AG'\\n 'BURGHARDT ANLAGENBAU GMBH' 'ALLIED VALVE INC'\\n 'INTERNATIONAL TEST AND BALANCE' 'BIO RAD LABORATORIES INC' 'ATLAS COPCO'\\n 'DPS ENGINEERING AND CONSTRUCTION' 'GERHARD SCHUBERT GMBH'\\n 'COGENT SKILLS SERVICES LTD'\\n 'FRIEDRICH GRAF VON WESTPHALEN AND PARTNER MBB' 'MATEC FRIEDEN'\\n 'EQUINIX INC' 'GLADE PLUMBING AND HEATING CO'\\n 'MK VERSUCHSANLAGEN UND LABORBEDARF'\\n 'ZIG ZAG SOLUCIONES CREATIVAS INTEGRALES SL' 'QANTAS AIRWAYS LTD'\\n 'HÄNYTEC AG PUMPEN UND PROZESSLÖSUNGEN' 'APLEONA' 'AVI SPL GLOBAL LLC'\\n 'INRA GROUP AG' 'THE NICKLES GROUP LLC' 'CARLO BERNASCONI AG'\\n 'KERN KOMPETENZ TECHNISCHE' 'ISO SAN AG' 'UKAS FUGEN GMBH'\\n 'HERBERT SMITH FREEHILLS LLP' 'ENGLEWOOD ELECTRICAL SUPPLY CO'\\n 'PRECISION PIPING INC' 'SAID BUS SCHOOL' 'FEUSI BILDUNGSZENTRUM AG'\\n 'TWC SERVICE INC' 'WITRONIC AG' 'ROBERT HALF DEUTSCHLAND GMBH AND CO KG'\\n 'ECOLAB INC' 'SIGMA PROCESS AND AUTOMATION GMBH'\\n 'FAHRNI FASSADENSYSTEME AG' 'GALAZ YAMAZAKI RUIZ URQUIZA SC'\\n 'SIMMONS AND SIMMONS LLP' 'PENTAZONE LLC' 'VISTRA KOREA CO LTD'\\n 'LB CATERING GMBH AND CO KG' 'BT AMERICAS INC' 'AMERICAN AIRLINES INC'\\n 'CBRE GMBH' 'PANTEX AG' 'BRAMMER BIO MA LLC' 'PAREXEL INTERNATIONAL CORP'\\n 'SIMPSON HEALTHCARE EXECUTIVES LLC' 'IDEAL LANDSCAPING INC'\\n 'PHARMEQUIP PTY LTD' 'ADECCO' 'BOLLIGER AND CO'\\n 'PREZERO SERVICE MITTE WEST GMBH AND CO' 'FERCHAU ENGINEERING'\\n 'FIND UR SOLUTIONS PTY LTD' 'TISCHLEREI SVEN LANGE'\\n 'OMNITEL COMUNICACIONES SL' 'M AND M SHEETMETAL'\\n 'FLEXIM FLEXIBLE INDUSTRIEMESSTECHNIK GMBH' 'AVV STEFANO CASSAMAGNAGHI'\\n 'HORIZON CONTROLS GROUP INC' 'WOLTER INC' 'COMPLIANCEPATH LLC'\\n 'JOHNSON DOWNS CONSTRUCTION CO' 'DIVERZIFY LLC' 'UNITED AIRLINES'\\n 'OGLETREE' 'SWISSLINX AG' 'JEGEN AG' 'FANUC CORP'\\n 'CRUSER MITCHELL NOVITZ SANCHEZ GASTON AND ZIMET LLP'\\n 'ARNOLD AND PORTER KAYE SCHOLER LLP' 'ELEKTRO EMCH AG'\\n 'RUDER ELECTRIC INC' 'ALSTERCLIFF GBR' 'ALL ROUND LEADERSHIP LTD'\\n 'CTC RESOURCING SOLUTIONS AG' 'DIE BREMER STADTREINIGUNG'\\n 'ROEBUCK BUILDINGS CO' 'ELFRIEDE BURK GERÜSTBAU BURK'\\n 'DMAC FABRICATIONS PTY LTD' 'JRT PARTNERSHIP PTY LTD' 'FOURTEXX GMBH'\\n 'BETONCOUPE AG BERN' 'HELVETIC PAYROLL AG' 'TURNER AND TOWNSEND PTY LTD'\\n 'KELLERHALS CARRARD BERN' 'RANDSTAD NA INC'\\n 'GEA MECHANICAL EQUIPMENT UK LTD' 'ALLIANCE OPCO PTY LTD'\\n 'C AND C BOILER SALES AND SERVICE INC' 'SKC COMMUNICATION PRODUCTS'\\n 'CHRISTOPHER E JANKINS' 'OXBOW EHS SOLUTIONS LLC'\\n 'NORTHERN SAFETY CO INC' 'ARTLOW SYSTEMS' 'BLUE CONNECTIONS PTY LTD'\\n 'SPIRATEC AG' 'BAXTERSTOREY LTD' 'CUBIS ARCHITEKTEN'\\n 'VBV PENSIONSKASSE AG' 'RELX INC' 'NOVUS ARCHITECTS' 'DANBY PROJECTS LTD'\\n 'M AND O ENVIRONMENTAL CO' 'SEAM GROUP LLC'\\n 'EDWARDS ELECTRICAL AND MECHANICAL' 'AC ISOLIERUNGEN GMBH' 'SKAN AG'\\n 'GORDONS SPECIALTY FEEDS' 'MICHAEL PAGE INTERNATIONAL'\\n 'INDUSTRIEBEDARF KLOHK GMBH' 'UFFICIO APPALTI SRL'\\n 'RAMBOLL AMERICAS ENGINEERING SOLUTIONS INC' 'AT CALL SAFETY WEAR'\\n 'ORTHO CLINICAL DIAGNOSTICS INC' 'NUMERIQ AG'\\n 'GFG GESELLSCHAFT FUR GERATEBAU AG' 'THE MEDICAL COLLEGE OF WISCONS'\\n 'WERNER PARTY SERVICE' 'THYSSENKRUPP ELEVATOR CORP' 'DURASERV CORP'\\n 'PLUXEE FRANCE EX SODEXO PASS FRANCE' 'PANNA CRANES PTY LTD'\\n 'HOLLOWAY AMERICA' 'SWISS INTERNATIONAL AIR LINES AG' 'GI GROUP SA'\\n 'EIDG INSTITUT FÜR METROLOGIE METAS' 'EVOQUA WATER TECHNOLOGIES LLC'\\n 'ARAMARK' 'DIPATEC GMBH' 'WEISS APPETITO AG' 'AIR FRANCE'\\n 'BAUMGARTNER KUHLANLAGEN AG' 'INTERCOOL USA LLC'\\n 'KONSTRUKTIONSBURO HAUBNER' 'CLEAN TEK REINRAUM UND HOSPITAL'\\n 'FOUR LEAF SUPPLY CORP' 'PRICEWATERHOUSECOOPERS'\\n 'F E MORAN INC REFRIGERATION' 'STAWIN AG' 'ANALYTIK JENA AG' 'IFB'\\n 'EUROROOF GMBH']- Column: *PO_L1*, Data Type: *object*\\nUnique Values: ['Professional Services' 'Cleaning Equipment and Supplies'\\n 'Building and Construction and Maintenance Services'\\n 'Engineering and Research and Technology Based Services'\\n 'Public Utilities and Public Sector Related Services'\\n 'Corporate Services'\\n 'Management and Business Professionals and Administrative Services'\\n 'Information Technology Broadcasting and Telecommunications'\\n 'Travel and Food and Lodging and Entertainment Services']- Column: *PO_L2*, Data Type: *object*\\nUnique Values: ['HR Services and Consultancy' 'Cleaning Equipment and Supplies'\\n 'Building construction and support and maintenance and repair services'\\n 'Computer services' 'Utilities' 'Facilities'\\n 'Building and Construction and Maintenance Services' 'Travel'\\n 'Technology' 'Legal services' 'Marketing Services'\\n 'Computer Equipment and Accessories' 'Restaurants and catering']- Column: *PO_L3*, Data Type: *object*\\nUnique Values: ['HR Services and Consultancy' 'Cleaning Equipment and Supplies'\\n 'Building construction and support and maintenance and repair services'\\n 'System administrators' 'Electric utilities' 'General Facility Services'\\n 'Building and Construction and Maintenance Services' 'Agency'\\n 'IT Services' 'Legal services' 'Marketing Services' 'Cafeteria'\\n 'Computer printers' 'Cafeteria services'\\n 'Computer Equipment and Accessories']- Column: *PO_L4*, Data Type: *object*\\nUnique Values: ['HR Services and Consultancy' 'Cleaning Equipment and Supplies'\\n 'Building construction and support and maintenance and repair services'\\n 'Computer hardware maintenance or support' 'Electric utilities'\\n 'General Facility Services'\\n 'Building and Construction and Maintenance Services' 'Agency'\\n 'IT Services' 'Legal services' 'Marketing Services' 'Cafeteria'\\n 'Computer printers' 'Cafeteria services'\\n 'Computer Equipment and Accessories']- Column: *G/L Acct Long Text*, Data Type: *object*\\nUnique Values: ['Sundry Debtors VAT GST Taxes Foreign' 'Other COS Adjustments'\\n 'Accruals PR Retirement' 'Accruals PR 401(k) Non Union'\\n 'Facilities Maintenance & IFM - External'\\n 'Sundry Debtors VAT GST Taxes Import' 'Other Cred Other (Recon)'\\n 'Facilities Hardware Maintanence' 'Trade Creditors Domestic (Recon)'\\n 'Accruals PR Withholding Tax Salaries' 'Misc Capital Items'\\n 'Accruals Pension Funds Clearing Acc' 'Environmental Electricity'\\n 'Facilities Service Agreement' 'Trade Creditors GR/IR (Auto)'\\n 'Supplies Softgood Expense' 'Trade Payables GR/IR (Auto)'\\n 'Accruals PR CSL Shareplan' 'Accruals VAT Payable Domestic'\\n 'Environmental Auto & Vehicle Gas' 'Supplies Lab Materials'\\n 'Facilities Other' 'Trade Payables Domestic (Auto)'\\n 'Facilities Rent/Lease Equipment' 'Misc Dues Subscriptions & Fees'\\n 'Auto & Vehicle Rental/Lease' 'Freight Out Domestic'\\n 'Accruals PR Deferred Executive Comp' 'Facilities Hardware Exp & Maint'\\n 'Prof Svc Legal Fees' 'Facilities Spare Parts Consumed'\\n 'Accruals PR 401(k) Union' 'Facilities Rent/Lease Buildings/Rooms'\\n 'Comp&Ben Other Expatriation Exp' 'Facilities Maintenance/Repairs'\\n 'Insurance Allocated' 'Environmental Waste Hazardous'\\n 'Comp&Ben Allowance Other' 'Accruals PR ESOP LN Personal EE'\\n 'Consulting - Other' 'Comp&Ben Allowance Relocation' 'Recruiting'\\n 'Planned Equipment Maintenance - External' 'Environmental Waste Water'\\n 'Facilities Canteen' 'Misc Other' 'Facilities Expensed Equipment'\\n 'Misc Other Compassionate Program' 'Trade Creditors Foreign (Recon)'\\n 'Corrective Equipment Maintenance - External'\\n 'Prof Svcs - External Collaboration' 'Trade Creditors Other (Recon)'\\n 'Facilities Data Communication'\\n 'Corrective Equipment Maintenance - Exter' 'Supplies Other'\\n 'Comp&Ben Other Miscellaneous' 'Prof Svc Data Services'\\n 'Comp&Ben External Manpower' 'Supplies Supplies General' 'Prof Svc Other'\\n 'Facilities - Calibration' 'Supplies Non-Inv Consumables' 'Not Available'\\n 'Training & Education' 'Supplies Security Services'\\n 'Travel & Entertainment Air Fares' 'Travel & Entertainment Other'\\n 'Facilities Telephone' 'Temporary Staff' 'Facilities - Other'\\n 'Fixed Asset Technical Account' 'Facilities Building Services'\\n 'Prof Svc Recruiting Other' 'Facilities Software Maintanence'\\n 'Prof Svc Audit Fees Semi-Annual' 'Accruals Payroll Taxes'\\n 'IT Infrastructure' 'Supplies Non-Product Freight'\\n 'Other Professional Services' 'Environmental Waste Other'\\n 'Comp&Ben Other' 'Insurance Allocated Workers Comp'\\n 'Travel & Entertainment Meeting' 'Employee Relocation and Storage'\\n 'Defined Contribution Plan Expense' 'Accruals PR PAC W/H'\\n 'Supplies Inventory Consumables' 'BC - Continuing Medical Education'\\n 'Comp&Ben Food Cupons' 'Prof Svc Outsourced BT Services'\\n 'Prof Svc Tax Services' 'Training & Education Other' 'Prepayments Other']- Column: *Company Code*, Data Type: *object*\\nUnique Values: [1095 2015 2010 2012 1010 605 3010 1011 3085 1094 3065 3075 603 606 1017\\n 618 115 4020 2016 '3030-APAC' 1050 302 4025 1030 619 1098 1080 620 1023\\n 1012 1040 4030 1070 625 1026 1020 1060 150 4015]- Column: *Country Short*, Data Type: *object*\\nUnique Values: ['CH' 'US' 'DE' 'GB' 'JP' 'AU' 'ES' 'MX' 'PR' 'HK' 'BE' 'PA' 'SE' 'AR'\\n 'TR' 'CA' 'CZ' 'IT' 'KR' 'AE' 'AT' 'FR' 'CO']- Column: *Document number*, Data Type: *object*\\nUnique Values: [1900046518 1900047035 1900047549 ... 6111909225 6111940224 6110122438]- Column: *Purchasing Document*, Data Type: *object*\\nUnique Values: ['Not Available' 4400737138 4400641038 ... 4400712885 4400694279\\n 4400717704]- Column: *Posting Date*, Data Type: *datetime64[ns]*\\n- Column: *Payment terms*, Data Type: *object*\\nUnique Values: ['T000' 'T045' 'T060' 'T015' 'T030' ' ' 'T014' 'T010' 'NT60' 'T105' 'T090'\\n 'T143' 'T020' 'NT45' 'NT30' 'T007' nan 'NT00' 'T025' 'EM60' 'T662' 'T102'\\n 'T021' 'NT14' 'T142' 'NT07']- Column: *Payment term No. of Days*, Data Type: *float64*\\n- Column: *Payment term Own Explanation*, Data Type: *object*\\nUnique Values: ['Payable immediately' 'Net 45 Days' 'Net 60 Days' 'Net 15 Days'\\n 'Net 30 Days' nan 'Net 14 Days' 'Net 10 Days' 'Net due in 60 days'\\n '10 days 1.5%, net 30' 'Net 90 Days' '14 days 3%, net 30' 'Net 20 Days'\\n 'Net due in 45 days' 'Net due in 30 days' 'Net 7 Days'\\n 'Payable upon receipt' 'Due by end of month following month of invoice'\\n 'Net due in 60 days after end of month' '15 days 2%, Net 60'\\n '10 days 2%, net 30' 'Net 21 Days' 'Net due in 14 days'\\n '14 days 2%, net 30' 'Net due in 7 days']- Column: *Spend*, Data Type: *float64*\\n\\n=== Special Columns ===\\nDimensions: Cg_Normalized_Vendor, PO_L1, PO_L2, PO_L3, PO_L4, G/L Acct Long Text, Company Code, Country Short, Document number, Purchasing Document, Posting Date, Payment terms, Payment term No. of Days, Payment term Own Explanation, Spend\\n\""
      ]
     },
     "execution_count": 37,
     "metadata": {},
     "output_type": "execute_result"
    }
   ],
   "source": [
    "schema = get_csv_schema(df)\n",
    "schema"
   ]
  },
  {
   "cell_type": "code",
   "execution_count": 38,
   "id": "fd4cc344",
   "metadata": {},
   "outputs": [
    {
     "name": "stdout",
     "output_type": "stream",
     "text": [
      "<class 'pandas.core.frame.DataFrame'>\n",
      "RangeIndex: 2384 entries, 0 to 2383\n",
      "Data columns (total 15 columns):\n",
      " #   Column                        Non-Null Count  Dtype         \n",
      "---  ------                        --------------  -----         \n",
      " 0   Cg_Normalized_Vendor          2384 non-null   object        \n",
      " 1   PO_L1                         2384 non-null   object        \n",
      " 2   PO_L2                         2384 non-null   object        \n",
      " 3   PO_L3                         2384 non-null   object        \n",
      " 4   PO_L4                         2384 non-null   object        \n",
      " 5   G/L Acct Long Text            2384 non-null   object        \n",
      " 6   Company Code                  2384 non-null   object        \n",
      " 7   Country Short                 2384 non-null   object        \n",
      " 8   Document number               2384 non-null   object        \n",
      " 9   Purchasing Document           2384 non-null   object        \n",
      " 10  Posting Date                  2384 non-null   datetime64[ns]\n",
      " 11  Payment terms                 2317 non-null   object        \n",
      " 12  Payment term No. of Days      2276 non-null   float64       \n",
      " 13  Payment term Own Explanation  2276 non-null   object        \n",
      " 14  Spend                         2384 non-null   float64       \n",
      "dtypes: datetime64[ns](1), float64(2), object(12)\n",
      "memory usage: 279.5+ KB\n"
     ]
    }
   ],
   "source": [
    "df.info()"
   ]
  },
  {
   "cell_type": "code",
   "execution_count": 39,
   "id": "3cb92ffc",
   "metadata": {},
   "outputs": [],
   "source": [
    "import re\n",
    "from dotenv import load_dotenv\n",
    "from openai import AzureOpenAI\n",
    "from langchain_openai import AzureChatOpenAI\n",
    "import os \n",
    "\n",
    "def init_openai_client() -> AzureChatOpenAI:\n",
    "    load_dotenv() \n",
    "\n",
    "    endpoint = os.getenv(\"AZURE_ENDPOINT\")\n",
    "    key = os.getenv(\"AZURE_API_KEY\")\n",
    "    api_version = os.getenv(\"AZURE_API_VERSION\")\n",
    "    azure_deployment = os.getenv(\"AZURE_DEPLOYMENT\")\n",
    "    # httpx_client = httpx.Client(http2=True, verify=False)\n",
    "\n",
    "    return AzureChatOpenAI(\n",
    "        api_key=key,\n",
    "        api_version=api_version,\n",
    "        azure_endpoint=endpoint,\n",
    "        azure_deployment=azure_deployment,\n",
    "        # http_client=httpx_client\n",
    "    )"
   ]
  },
  {
   "cell_type": "code",
   "execution_count": 40,
   "id": "79d5ad7d",
   "metadata": {},
   "outputs": [],
   "source": [
    "client = init_openai_client()"
   ]
  },
  {
   "cell_type": "code",
   "execution_count": null,
   "id": "49fa2ee4",
   "metadata": {},
   "outputs": [],
   "source": [
    "df_info = get_csv_schema(df)\n",
    "# query = \"create a report to show top cg_normalized_vendor by spend\"\n",
    "query= \"Create a report to show cg_normalized_vendor with distinct payment terms\"\n",
    "human_msg  = f\"\\nThis is the pandas Dataframe info : {df_info}. \\nDo Not create your own data, assume that this data is already loaded as df and Answer the User query using proper imports and operations in your code. \\nI need you to write a code for this questions. Question: *{query}*\"\n",
    "\n"
   ]
  },
  {
   "cell_type": "code",
   "execution_count": 42,
   "id": "49a29a5a",
   "metadata": {},
   "outputs": [
    {
     "data": {
      "text/plain": [
       "\"\\nThis is the pandas Dataframe info : The CSV contains the following columns:\\n- Column: *Cg_Normalized_Vendor*, Data Type: *object*\\nUnique Values: ['HAUPTZOLLAMT GIESSEN' 'HAEMONETICS CORP'\\n 'PERSONALVORSORGESTIFTUNG DER CSL BEHRING AG' 'FIDELITY FPRS'\\n 'JONES LANG LASALLE AMERICAS INC' 'ZOLLAMT MARBURG' 'CDW LLC'\\n 'UFCW NATIONAL HEALTH AND WELFARE FUND'\\n 'STEUERVERWALTUNG DES KANTONS BERN ABTEILUNG QUELLENSTEUERN'\\n 'BEAR CONSTRUCTION' 'PENSIONSKASSE DMITARBEITE' 'EWB ENERGIE WASSER BERN'\\n 'PATHEON UK LTD' 'HEMASOURCE INC' 'HOF SONDERANLAGENBAU' 'SARTORIUS AG'\\n 'Not Available' 'PHARMASERV GMBH' 'CSL LTD' 'VMWARE INTERNATIONAL LTD'\\n 'BARKER CONTRACTING INC' 'RAMBOLL AMERICAS INTEGRATED SOLUTIO AMERICA'\\n 'PATHEON MANUFACTURING SERVICES LLC' 'PAYMENT SLIP CONSUMPTION TAX'\\n 'CSL BEHRING' 'WHEELS INC' 'ROCHE DIAGNOSTICS CORP' 'PALL CORP'\\n 'MITIE WASTE AND ENVIRONMENTAL' 'AHEAD INC' 'NWR INC'\\n 'OTTO BUILDING TECHNOLOGIES GMBH' 'MATTCON GENERAL CONTRACTORS'\\n 'SPOTLESS FACILITY SERVICES PTY LTD' 'ABBOTT' 'JAG JACOB AG'\\n 'BALLARD SPAHR LLP' 'BASTIAN SOLUTIONS INC' 'U S WATER SERVICES CORP'\\n 'TECAN GROUP' 'ZIMMERMANN GMBH' 'PHARMAPLAN AG' 'MESA LABORATORIES INC'\\n 'SIEMENS' 'ASTROMEC AG' 'SYNTEGON TECHNOLOGY GMBH'\\n 'MANPOWER GROUP CO LTD' 'ONESTA ABBRUCH GMBH' 'VIALTO PARTNERS PTY LTD'\\n 'AGILENT TECHNOLOGIES INC' 'OPTIMA' 'CORVEL ENTERPRISE COMP INC'\\n 'EUREST SERVICES' 'TERUMO BCT INC' 'ASHFIELD HEALTHCARE LTD' 'ZETA GMBH'\\n 'VEOLIA WATER TECHNOLOGIES' 'ASTRO PAK CORP' 'NETGO MITTE GMBH'\\n 'COMMONEO LLC' 'EMCOR FACILITIES SERVICES INC' 'PIGGUSH SIMONEAU INC'\\n 'RS INTEGRATED SUPPLY UK LTD' 'TROMMERSHAUSER AND FUS GMBH AND CO KG'\\n 'SMARTSHEET INC' 'BCRR INC' 'NB EXKLUSIV NORD GMBH'\\n 'SIRVA RELOCATION PTY LTD' 'M KLEIN ELEKTRO SERVICE'\\n 'SMART SKIN TECHNOLOGIES' 'BRAND SOLUCIONES AVANZADAS'\\n 'SHANNON EXECUTIVE SEARCH LTD' 'CLIMATE CONTROL OF PENSACOLA INC'\\n 'AMS MECHANICAL SYSTEMS INC' 'HOGAN LOVELLS INTERNATIONAL LLP'\\n 'COMPUTER DESIGN AND INTEGRATION LLC' 'THEHUB MARKETING' 'REMONTEC AG'\\n 'BOKATA GMBH' 'ACCENTURE PLC' 'NAIM BAJRAMI TROCKENBAU' 'CONTROL RISKS'\\n 'ULTRACLEAN ELECTROPOLISH INC' 'ELEKTROBAU GUNDLACH GMBH'\\n 'ENCOMPASS COMMUNICATIONS AND LEARNING' 'WE MAKE IT GMBH'\\n 'RODE KRUIS VLAANDEREN' 'M AND O INSULATION CO'\\n 'TOBIN AND SONS MOVING AND STORAGE INC' 'ZIMMERMANN MESSTECHNIK AG'\\n 'ARLINGTON SCIENTIFIC INC' 'FLIK INTERNATIONAL CORP'\\n 'MOTUS ENGINEERING GMBH AND CO KG' 'ALLSCRIPTS HEALTHCARE LLC'\\n 'CANON INC' 'BAUSCH STROBEL SE CO KG' 'CHARLES RIVER LABORATORIES INC'\\n 'DAROB INC' 'VISAVVI LTD' 'NOBAG NOBS ENGINEERING AG'\\n 'STONHARD DIVISION OF STONCOR GROUP' 'PREMIUM PHARMASER SUARL'\\n 'BIOCHROM LTD' 'TMF PANAMA S DE RL' 'GEORG UTZ GMBH' 'GREIF'\\n 'PERSOPLAN GMBH' 'REAL STAFFING GROUP DER STHREE GMBH'\\n 'PROCESS SOLUTIONS' 'CSL GESP JAPANESE TRUST ACCOUNT'\\n 'ROBERT MICHAEL EDUCATIONAL INSTITUTE LLC' 'ANTON PAAR GMBH'\\n 'PHARMA RELATIONS AB' 'LITTLER MENDELSON PC' 'HERZOG BAU U HOLZBAU AG'\\n 'ROLAND' 'METTLER TOLEDO' 'TOLIN MECHANICAL SYSTEM' 'JOHNSON CONTROLS'\\n 'JUNGHEINRICH AG' 'CID ENTERPRISES VIC PTY LTD' 'SIDLEY AUSTIN LLP'\\n 'ASCOM SOLUTIONS AG' 'RESOURCE ELECTRIC LLC' 'SODEXO'\\n 'BAKER AND MCKENZIE' 'BW SERVICE AG'\\n 'HOCHSTER PENSIONS BENEFITS SERVICES GMBH' 'CONSORTIUM GASTRONOMIE GMBH'\\n 'VENTURANCE' 'THERMO FISHER SCIENTIFIC' 'PROCON AG' 'SPORTCLUB CSL'\\n 'AXIOM GLOBAL INC' 'HOLT LEE CONSTRUCTION INC' 'WATERS TECHNOLOGIES CORP'\\n 'HEALTHCARE ALLIANCE GROUP LLC' 'TECHNICAL SAFETY SERVICES INC'\\n 'IRON MOUNTAIN INC' 'ABSG CONSULTING INC'\\n 'SHERMCO INDUSTRIES CHICAGO SERVICE CENTER' 'MEETINGPHARMA GROUP SL'\\n 'STEARNS WEAVER MILLER WEISSLER ALHADEFF AND SITTERSON PA' 'BWT AQUA AG'\\n 'KONIG BUROTECHNIK KG' 'IMPRES INC' 'INTERSTATE RESTORATION LLC'\\n 'TRIUMVIRATE ENVIRONMENTAL INC' 'INSOURCE SOFTWARE SOLUTIONS INC'\\n 'SENSITECH INC' 'STRADIS MED' 'AGI AG' 'WATSON MARLOW INC'\\n 'AVORIS RETAIL DIVISION SL' 'SNELL AND WILMER' 'LECO CORP' 'BRUKER'\\n 'SENN KONSTRUKTIONSWERKSTATTE AG' 'FERGUSON US HOLDINGS INC'\\n 'CONTROL IT AUSTRALIA PTY LTD' 'THE TRUSTEE FOR CONTROL IT AUSTRAL'\\n 'PERKIN ELMER' 'HONEYWELL INTERNATIONAL INC' 'G B MEDIENTECHNIK GMBH'\\n 'KOKUYO MARKETING' 'CHARLES RIVER MICROBIAL SOLUTIONS INTERNATIONAL LTD'\\n 'SVA AUTOMATION AG' 'LINDNER SE' 'EATON CORP PLC' 'GENSLER GMBH'\\n 'PONT ENERGIETECHNIK AG' 'F E MORAN INC SPECIAL HAZARD SYSTEMS'\\n 'L BAU SONDERMASCHINEN GMBH AND CO KG' 'ISLA FRIO REFRIGERATION CORP'\\n 'IMD INTERNATIONAL INSTITUTE FOR MANAGEMENT DEVELOPMENT'\\n 'TURNER ELECTRIC CO' 'DEWAISOL AG DECKEN WÄNDE ISOLATIONEN'\\n 'SERVICE BUILDING MAINTENANCE INC' 'PASSMORE COLLEGE'\\n 'INNOVA IT SERVICES LLC' 'DH GRIFFIN CONTRACTING INC'\\n 'INFOSYS TECHNOLOGIES LTD' 'ATECO TOBLER AG' 'BRITISH AIRWAYS'\\n 'DEBAG INDUSTRIEAUTOMATIONS AG' 'INTEGRATED SECURITY HOLDING GROUP LLC'\\n 'TOP TECH SOL AG' 'ACOEM USA INC' 'WIRZ AG BAUUNTERNEHMUNG'\\n 'JMP EQUIPMENT CO LLC' 'GETINGE AB' 'HAYS PLC' 'PROCLINICAL'\\n 'DELL FINANCIAL SERVICES LTD' 'SINGAPORE AIRLINES LTD'\\n 'AMERICAN EXPRESS GLOBAL BUSINESS TRAVEL' 'SCHWITZKE PROJECT GMBH'\\n 'EQUANS SERVICES AG' 'PRECISION AIR TECHNOLOGY INC' 'AUGURY INC'\\n 'ASAHI KASEI BIOPROCESS AMERICA INC' 'POWERGIA GMBH' 'SAMANO ABOGADOS SC'\\n 'DVL GROUP INC' 'ENZLER REINIGUNGEN AG' 'CENTIMARK CORP'\\n 'HRTMANAGERS GMBH' 'ELEKTRO BURKHALTER AG' 'FUSION CLOUD SERVICES LLC'\\n 'MAJESTIC MECHANICAL' 'INATEC SA' 'AMSONIC AG' 'MEDCOR INC'\\n 'ENDRESS AND HAUSER INC' 'TECTON ABDICHTUNGEN AG'\\n 'BURGHARDT ANLAGENBAU GMBH' 'ALLIED VALVE INC'\\n 'INTERNATIONAL TEST AND BALANCE' 'BIO RAD LABORATORIES INC' 'ATLAS COPCO'\\n 'DPS ENGINEERING AND CONSTRUCTION' 'GERHARD SCHUBERT GMBH'\\n 'COGENT SKILLS SERVICES LTD'\\n 'FRIEDRICH GRAF VON WESTPHALEN AND PARTNER MBB' 'MATEC FRIEDEN'\\n 'EQUINIX INC' 'GLADE PLUMBING AND HEATING CO'\\n 'MK VERSUCHSANLAGEN UND LABORBEDARF'\\n 'ZIG ZAG SOLUCIONES CREATIVAS INTEGRALES SL' 'QANTAS AIRWAYS LTD'\\n 'HÄNYTEC AG PUMPEN UND PROZESSLÖSUNGEN' 'APLEONA' 'AVI SPL GLOBAL LLC'\\n 'INRA GROUP AG' 'THE NICKLES GROUP LLC' 'CARLO BERNASCONI AG'\\n 'KERN KOMPETENZ TECHNISCHE' 'ISO SAN AG' 'UKAS FUGEN GMBH'\\n 'HERBERT SMITH FREEHILLS LLP' 'ENGLEWOOD ELECTRICAL SUPPLY CO'\\n 'PRECISION PIPING INC' 'SAID BUS SCHOOL' 'FEUSI BILDUNGSZENTRUM AG'\\n 'TWC SERVICE INC' 'WITRONIC AG' 'ROBERT HALF DEUTSCHLAND GMBH AND CO KG'\\n 'ECOLAB INC' 'SIGMA PROCESS AND AUTOMATION GMBH'\\n 'FAHRNI FASSADENSYSTEME AG' 'GALAZ YAMAZAKI RUIZ URQUIZA SC'\\n 'SIMMONS AND SIMMONS LLP' 'PENTAZONE LLC' 'VISTRA KOREA CO LTD'\\n 'LB CATERING GMBH AND CO KG' 'BT AMERICAS INC' 'AMERICAN AIRLINES INC'\\n 'CBRE GMBH' 'PANTEX AG' 'BRAMMER BIO MA LLC' 'PAREXEL INTERNATIONAL CORP'\\n 'SIMPSON HEALTHCARE EXECUTIVES LLC' 'IDEAL LANDSCAPING INC'\\n 'PHARMEQUIP PTY LTD' 'ADECCO' 'BOLLIGER AND CO'\\n 'PREZERO SERVICE MITTE WEST GMBH AND CO' 'FERCHAU ENGINEERING'\\n 'FIND UR SOLUTIONS PTY LTD' 'TISCHLEREI SVEN LANGE'\\n 'OMNITEL COMUNICACIONES SL' 'M AND M SHEETMETAL'\\n 'FLEXIM FLEXIBLE INDUSTRIEMESSTECHNIK GMBH' 'AVV STEFANO CASSAMAGNAGHI'\\n 'HORIZON CONTROLS GROUP INC' 'WOLTER INC' 'COMPLIANCEPATH LLC'\\n 'JOHNSON DOWNS CONSTRUCTION CO' 'DIVERZIFY LLC' 'UNITED AIRLINES'\\n 'OGLETREE' 'SWISSLINX AG' 'JEGEN AG' 'FANUC CORP'\\n 'CRUSER MITCHELL NOVITZ SANCHEZ GASTON AND ZIMET LLP'\\n 'ARNOLD AND PORTER KAYE SCHOLER LLP' 'ELEKTRO EMCH AG'\\n 'RUDER ELECTRIC INC' 'ALSTERCLIFF GBR' 'ALL ROUND LEADERSHIP LTD'\\n 'CTC RESOURCING SOLUTIONS AG' 'DIE BREMER STADTREINIGUNG'\\n 'ROEBUCK BUILDINGS CO' 'ELFRIEDE BURK GERÜSTBAU BURK'\\n 'DMAC FABRICATIONS PTY LTD' 'JRT PARTNERSHIP PTY LTD' 'FOURTEXX GMBH'\\n 'BETONCOUPE AG BERN' 'HELVETIC PAYROLL AG' 'TURNER AND TOWNSEND PTY LTD'\\n 'KELLERHALS CARRARD BERN' 'RANDSTAD NA INC'\\n 'GEA MECHANICAL EQUIPMENT UK LTD' 'ALLIANCE OPCO PTY LTD'\\n 'C AND C BOILER SALES AND SERVICE INC' 'SKC COMMUNICATION PRODUCTS'\\n 'CHRISTOPHER E JANKINS' 'OXBOW EHS SOLUTIONS LLC'\\n 'NORTHERN SAFETY CO INC' 'ARTLOW SYSTEMS' 'BLUE CONNECTIONS PTY LTD'\\n 'SPIRATEC AG' 'BAXTERSTOREY LTD' 'CUBIS ARCHITEKTEN'\\n 'VBV PENSIONSKASSE AG' 'RELX INC' 'NOVUS ARCHITECTS' 'DANBY PROJECTS LTD'\\n 'M AND O ENVIRONMENTAL CO' 'SEAM GROUP LLC'\\n 'EDWARDS ELECTRICAL AND MECHANICAL' 'AC ISOLIERUNGEN GMBH' 'SKAN AG'\\n 'GORDONS SPECIALTY FEEDS' 'MICHAEL PAGE INTERNATIONAL'\\n 'INDUSTRIEBEDARF KLOHK GMBH' 'UFFICIO APPALTI SRL'\\n 'RAMBOLL AMERICAS ENGINEERING SOLUTIONS INC' 'AT CALL SAFETY WEAR'\\n 'ORTHO CLINICAL DIAGNOSTICS INC' 'NUMERIQ AG'\\n 'GFG GESELLSCHAFT FUR GERATEBAU AG' 'THE MEDICAL COLLEGE OF WISCONS'\\n 'WERNER PARTY SERVICE' 'THYSSENKRUPP ELEVATOR CORP' 'DURASERV CORP'\\n 'PLUXEE FRANCE EX SODEXO PASS FRANCE' 'PANNA CRANES PTY LTD'\\n 'HOLLOWAY AMERICA' 'SWISS INTERNATIONAL AIR LINES AG' 'GI GROUP SA'\\n 'EIDG INSTITUT FÜR METROLOGIE METAS' 'EVOQUA WATER TECHNOLOGIES LLC'\\n 'ARAMARK' 'DIPATEC GMBH' 'WEISS APPETITO AG' 'AIR FRANCE'\\n 'BAUMGARTNER KUHLANLAGEN AG' 'INTERCOOL USA LLC'\\n 'KONSTRUKTIONSBURO HAUBNER' 'CLEAN TEK REINRAUM UND HOSPITAL'\\n 'FOUR LEAF SUPPLY CORP' 'PRICEWATERHOUSECOOPERS'\\n 'F E MORAN INC REFRIGERATION' 'STAWIN AG' 'ANALYTIK JENA AG' 'IFB'\\n 'EUROROOF GMBH']- Column: *PO_L1*, Data Type: *object*\\nUnique Values: ['Professional Services' 'Cleaning Equipment and Supplies'\\n 'Building and Construction and Maintenance Services'\\n 'Engineering and Research and Technology Based Services'\\n 'Public Utilities and Public Sector Related Services'\\n 'Corporate Services'\\n 'Management and Business Professionals and Administrative Services'\\n 'Information Technology Broadcasting and Telecommunications'\\n 'Travel and Food and Lodging and Entertainment Services']- Column: *PO_L2*, Data Type: *object*\\nUnique Values: ['HR Services and Consultancy' 'Cleaning Equipment and Supplies'\\n 'Building construction and support and maintenance and repair services'\\n 'Computer services' 'Utilities' 'Facilities'\\n 'Building and Construction and Maintenance Services' 'Travel'\\n 'Technology' 'Legal services' 'Marketing Services'\\n 'Computer Equipment and Accessories' 'Restaurants and catering']- Column: *PO_L3*, Data Type: *object*\\nUnique Values: ['HR Services and Consultancy' 'Cleaning Equipment and Supplies'\\n 'Building construction and support and maintenance and repair services'\\n 'System administrators' 'Electric utilities' 'General Facility Services'\\n 'Building and Construction and Maintenance Services' 'Agency'\\n 'IT Services' 'Legal services' 'Marketing Services' 'Cafeteria'\\n 'Computer printers' 'Cafeteria services'\\n 'Computer Equipment and Accessories']- Column: *PO_L4*, Data Type: *object*\\nUnique Values: ['HR Services and Consultancy' 'Cleaning Equipment and Supplies'\\n 'Building construction and support and maintenance and repair services'\\n 'Computer hardware maintenance or support' 'Electric utilities'\\n 'General Facility Services'\\n 'Building and Construction and Maintenance Services' 'Agency'\\n 'IT Services' 'Legal services' 'Marketing Services' 'Cafeteria'\\n 'Computer printers' 'Cafeteria services'\\n 'Computer Equipment and Accessories']- Column: *G/L Acct Long Text*, Data Type: *object*\\nUnique Values: ['Sundry Debtors VAT GST Taxes Foreign' 'Other COS Adjustments'\\n 'Accruals PR Retirement' 'Accruals PR 401(k) Non Union'\\n 'Facilities Maintenance & IFM - External'\\n 'Sundry Debtors VAT GST Taxes Import' 'Other Cred Other (Recon)'\\n 'Facilities Hardware Maintanence' 'Trade Creditors Domestic (Recon)'\\n 'Accruals PR Withholding Tax Salaries' 'Misc Capital Items'\\n 'Accruals Pension Funds Clearing Acc' 'Environmental Electricity'\\n 'Facilities Service Agreement' 'Trade Creditors GR/IR (Auto)'\\n 'Supplies Softgood Expense' 'Trade Payables GR/IR (Auto)'\\n 'Accruals PR CSL Shareplan' 'Accruals VAT Payable Domestic'\\n 'Environmental Auto & Vehicle Gas' 'Supplies Lab Materials'\\n 'Facilities Other' 'Trade Payables Domestic (Auto)'\\n 'Facilities Rent/Lease Equipment' 'Misc Dues Subscriptions & Fees'\\n 'Auto & Vehicle Rental/Lease' 'Freight Out Domestic'\\n 'Accruals PR Deferred Executive Comp' 'Facilities Hardware Exp & Maint'\\n 'Prof Svc Legal Fees' 'Facilities Spare Parts Consumed'\\n 'Accruals PR 401(k) Union' 'Facilities Rent/Lease Buildings/Rooms'\\n 'Comp&Ben Other Expatriation Exp' 'Facilities Maintenance/Repairs'\\n 'Insurance Allocated' 'Environmental Waste Hazardous'\\n 'Comp&Ben Allowance Other' 'Accruals PR ESOP LN Personal EE'\\n 'Consulting - Other' 'Comp&Ben Allowance Relocation' 'Recruiting'\\n 'Planned Equipment Maintenance - External' 'Environmental Waste Water'\\n 'Facilities Canteen' 'Misc Other' 'Facilities Expensed Equipment'\\n 'Misc Other Compassionate Program' 'Trade Creditors Foreign (Recon)'\\n 'Corrective Equipment Maintenance - External'\\n 'Prof Svcs - External Collaboration' 'Trade Creditors Other (Recon)'\\n 'Facilities Data Communication'\\n 'Corrective Equipment Maintenance - Exter' 'Supplies Other'\\n 'Comp&Ben Other Miscellaneous' 'Prof Svc Data Services'\\n 'Comp&Ben External Manpower' 'Supplies Supplies General' 'Prof Svc Other'\\n 'Facilities - Calibration' 'Supplies Non-Inv Consumables' 'Not Available'\\n 'Training & Education' 'Supplies Security Services'\\n 'Travel & Entertainment Air Fares' 'Travel & Entertainment Other'\\n 'Facilities Telephone' 'Temporary Staff' 'Facilities - Other'\\n 'Fixed Asset Technical Account' 'Facilities Building Services'\\n 'Prof Svc Recruiting Other' 'Facilities Software Maintanence'\\n 'Prof Svc Audit Fees Semi-Annual' 'Accruals Payroll Taxes'\\n 'IT Infrastructure' 'Supplies Non-Product Freight'\\n 'Other Professional Services' 'Environmental Waste Other'\\n 'Comp&Ben Other' 'Insurance Allocated Workers Comp'\\n 'Travel & Entertainment Meeting' 'Employee Relocation and Storage'\\n 'Defined Contribution Plan Expense' 'Accruals PR PAC W/H'\\n 'Supplies Inventory Consumables' 'BC - Continuing Medical Education'\\n 'Comp&Ben Food Cupons' 'Prof Svc Outsourced BT Services'\\n 'Prof Svc Tax Services' 'Training & Education Other' 'Prepayments Other']- Column: *Company Code*, Data Type: *object*\\nUnique Values: [1095 2015 2010 2012 1010 605 3010 1011 3085 1094 3065 3075 603 606 1017\\n 618 115 4020 2016 '3030-APAC' 1050 302 4025 1030 619 1098 1080 620 1023\\n 1012 1040 4030 1070 625 1026 1020 1060 150 4015]- Column: *Country Short*, Data Type: *object*\\nUnique Values: ['CH' 'US' 'DE' 'GB' 'JP' 'AU' 'ES' 'MX' 'PR' 'HK' 'BE' 'PA' 'SE' 'AR'\\n 'TR' 'CA' 'CZ' 'IT' 'KR' 'AE' 'AT' 'FR' 'CO']- Column: *Document number*, Data Type: *object*\\nUnique Values: [1900046518 1900047035 1900047549 ... 6111909225 6111940224 6110122438]- Column: *Purchasing Document*, Data Type: *object*\\nUnique Values: ['Not Available' 4400737138 4400641038 ... 4400712885 4400694279\\n 4400717704]- Column: *Posting Date*, Data Type: *datetime64[ns]*\\n- Column: *Payment terms*, Data Type: *object*\\nUnique Values: ['T000' 'T045' 'T060' 'T015' 'T030' ' ' 'T014' 'T010' 'NT60' 'T105' 'T090'\\n 'T143' 'T020' 'NT45' 'NT30' 'T007' nan 'NT00' 'T025' 'EM60' 'T662' 'T102'\\n 'T021' 'NT14' 'T142' 'NT07']- Column: *Payment term No. of Days*, Data Type: *float64*\\n- Column: *Payment term Own Explanation*, Data Type: *object*\\nUnique Values: ['Payable immediately' 'Net 45 Days' 'Net 60 Days' 'Net 15 Days'\\n 'Net 30 Days' nan 'Net 14 Days' 'Net 10 Days' 'Net due in 60 days'\\n '10 days 1.5%, net 30' 'Net 90 Days' '14 days 3%, net 30' 'Net 20 Days'\\n 'Net due in 45 days' 'Net due in 30 days' 'Net 7 Days'\\n 'Payable upon receipt' 'Due by end of month following month of invoice'\\n 'Net due in 60 days after end of month' '15 days 2%, Net 60'\\n '10 days 2%, net 30' 'Net 21 Days' 'Net due in 14 days'\\n '14 days 2%, net 30' 'Net due in 7 days']- Column: *Spend*, Data Type: *float64*\\n\\n=== Special Columns ===\\nDimensions: Cg_Normalized_Vendor, PO_L1, PO_L2, PO_L3, PO_L4, G/L Acct Long Text, Company Code, Country Short, Document number, Purchasing Document, Posting Date, Payment terms, Payment term No. of Days, Payment term Own Explanation, Spend\\n. \\nDo Not create your own data, assume that this data is already loaded as df and Answer the User query using proper imports and operations in your code. \\nI need you to write a code for this questions. Question: *Create a report to show cg_normalized_vendor with distinct payment terms*\""
      ]
     },
     "execution_count": 42,
     "metadata": {},
     "output_type": "execute_result"
    }
   ],
   "source": [
    "human_msg"
   ]
  },
  {
   "cell_type": "code",
   "execution_count": 43,
   "id": "353daedd",
   "metadata": {},
   "outputs": [
    {
     "data": {
      "text/plain": [
       "AIMessage(content=\"To create a report that shows each `Cg_Normalized_Vendor` along with its distinct payment terms, you can use the Pandas library in Python. The following code snippet achieves this by grouping the data by `Cg_Normalized_Vendor` and aggregating the distinct payment terms for each vendor.\\n\\nHere's the code to generate the report:\\n\\n```python\\nimport pandas as pd\\n\\n# Assuming df is already loaded as your DataFrame\\n\\n# Group by 'Cg_Normalized_Vendor' and aggregate distinct 'Payment terms'\\nreport = df.groupby('Cg_Normalized_Vendor')['Payment terms'].unique().reset_index()\\n\\n# Rename the columns for clarity\\nreport.columns = ['Cg_Normalized_Vendor', 'Distinct Payment Terms']\\n\\n# Display the report\\nprint(report)\\n```\\n\\n### Explanation:\\n1. **Group By**: The `groupby` method is used to group the DataFrame by the `Cg_Normalized_Vendor` column.\\n2. **Aggregation**: The `unique` function is applied to the `Payment terms` column to get distinct payment terms for each vendor.\\n3. **Reset Index**: The `reset_index()` method is used to convert the grouped object back into a DataFrame.\\n4. **Renaming Columns**: The columns are renamed for better clarity in the output.\\n5. **Print Report**: Finally, the report is printed to the console.\\n\\nYou can run this code snippet to obtain the desired report.\", additional_kwargs={'refusal': None}, response_metadata={'token_usage': {'completion_tokens': 293, 'prompt_tokens': 5176, 'total_tokens': 5469, 'completion_tokens_details': {'audio_tokens': 0, 'reasoning_tokens': 0, 'accepted_prediction_tokens': 0, 'rejected_prediction_tokens': 0}, 'prompt_tokens_details': {'audio_tokens': 0, 'cached_tokens': 0}}, 'model_name': 'gpt-4o-mini-2024-07-18', 'system_fingerprint': 'fp_ded0d14823', 'prompt_filter_results': [{'prompt_index': 0, 'content_filter_results': {'hate': {'filtered': False, 'severity': 'safe'}, 'jailbreak': {'filtered': False, 'detected': False}, 'self_harm': {'filtered': False, 'severity': 'safe'}, 'sexual': {'filtered': False, 'severity': 'safe'}, 'violence': {'filtered': False, 'severity': 'safe'}}}], 'finish_reason': 'stop', 'logprobs': None, 'content_filter_results': {'hate': {'filtered': False, 'severity': 'safe'}, 'protected_material_code': {'filtered': False, 'detected': False}, 'protected_material_text': {'filtered': False, 'detected': False}, 'self_harm': {'filtered': False, 'severity': 'safe'}, 'sexual': {'filtered': False, 'severity': 'safe'}, 'violence': {'filtered': False, 'severity': 'safe'}}}, id='run-1a6a3568-ce28-402b-aa35-8c6b60884347-0', usage_metadata={'input_tokens': 5176, 'output_tokens': 293, 'total_tokens': 5469, 'input_token_details': {'audio': 0, 'cache_read': 0}, 'output_token_details': {'audio': 0, 'reasoning': 0}})"
      ]
     },
     "execution_count": 43,
     "metadata": {},
     "output_type": "execute_result"
    }
   ],
   "source": [
    "ai_response = client.invoke(human_msg)\n",
    "ai_response"
   ]
  },
  {
   "cell_type": "code",
   "execution_count": 44,
   "id": "aa8bd7b4",
   "metadata": {},
   "outputs": [
    {
     "name": "stdout",
     "output_type": "stream",
     "text": [
      "To create a report that shows each `Cg_Normalized_Vendor` along with its distinct payment terms, you can use the Pandas library in Python. The following code snippet achieves this by grouping the data by `Cg_Normalized_Vendor` and aggregating the distinct payment terms for each vendor.\n",
      "\n",
      "Here's the code to generate the report:\n",
      "\n",
      "```python\n",
      "import pandas as pd\n",
      "\n",
      "# Assuming df is already loaded as your DataFrame\n",
      "\n",
      "# Group by 'Cg_Normalized_Vendor' and aggregate distinct 'Payment terms'\n",
      "report = df.groupby('Cg_Normalized_Vendor')['Payment terms'].unique().reset_index()\n",
      "\n",
      "# Rename the columns for clarity\n",
      "report.columns = ['Cg_Normalized_Vendor', 'Distinct Payment Terms']\n",
      "\n",
      "# Display the report\n",
      "print(report)\n",
      "```\n",
      "\n",
      "### Explanation:\n",
      "1. **Group By**: The `groupby` method is used to group the DataFrame by the `Cg_Normalized_Vendor` column.\n",
      "2. **Aggregation**: The `unique` function is applied to the `Payment terms` column to get distinct payment terms for each vendor.\n",
      "3. **Reset Index**: The `reset_index()` method is used to convert the grouped object back into a DataFrame.\n",
      "4. **Renaming Columns**: The columns are renamed for better clarity in the output.\n",
      "5. **Print Report**: Finally, the report is printed to the console.\n",
      "\n",
      "You can run this code snippet to obtain the desired report.\n"
     ]
    }
   ],
   "source": [
    "print(ai_response.content)"
   ]
  },
  {
   "cell_type": "code",
   "execution_count": 46,
   "id": "eb737cf6",
   "metadata": {},
   "outputs": [],
   "source": [
    "def extract_python_code(text):\n",
    "    match = re.search(r\"```python\\n(.*?)\\n```\", text, re.DOTALL)\n",
    "    return match.group(1) if match else \"\""
   ]
  },
  {
   "cell_type": "code",
   "execution_count": 47,
   "id": "a83a5af4",
   "metadata": {},
   "outputs": [],
   "source": [
    "code = extract_python_code(ai_response.content)"
   ]
  },
  {
   "cell_type": "code",
   "execution_count": 48,
   "id": "7ef6641b",
   "metadata": {},
   "outputs": [
    {
     "name": "stdout",
     "output_type": "stream",
     "text": [
      "import pandas as pd\n",
      "\n",
      "# Assuming df is already loaded as your DataFrame\n",
      "\n",
      "# Group by 'Cg_Normalized_Vendor' and aggregate distinct 'Payment terms'\n",
      "report = df.groupby('Cg_Normalized_Vendor')['Payment terms'].unique().reset_index()\n",
      "\n",
      "# Rename the columns for clarity\n",
      "report.columns = ['Cg_Normalized_Vendor', 'Distinct Payment Terms']\n",
      "\n",
      "# Display the report\n",
      "print(report)\n"
     ]
    }
   ],
   "source": [
    "print(code)"
   ]
  },
  {
   "cell_type": "code",
   "execution_count": 49,
   "id": "7ae35608",
   "metadata": {},
   "outputs": [
    {
     "data": {
      "text/plain": [
       "Cg_Normalized_Vendor\n",
       "HAUPTZOLLAMT GIESSEN                           1.099890e+08\n",
       "ZOLLAMT MARBURG                                6.957429e+07\n",
       "FIDELITY FPRS                                  2.267974e+07\n",
       "PERSONALVORSORGESTIFTUNG DER CSL BEHRING AG    1.288088e+07\n",
       "HAEMONETICS CORP                               1.189783e+07\n",
       "                                                   ...     \n",
       "FOUR LEAF SUPPLY CORP                          9.288690e+03\n",
       "PRICEWATERHOUSECOOPERS                         9.193870e+03\n",
       "STAWIN AG                                      8.987480e+03\n",
       "IFB                                            8.794270e+03\n",
       "EUROROOF GMBH                                  8.759730e+03\n",
       "Name: Spend, Length: 358, dtype: float64"
      ]
     },
     "execution_count": 49,
     "metadata": {},
     "output_type": "execute_result"
    }
   ],
   "source": [
    "# create a report to show top cg_normalized_vendor by spend \n",
    "\n",
    "import pandas as pd\n",
    "\n",
    "vendor_spend = df.groupby('Cg_Normalized_Vendor')['Spend'].sum()\n",
    "\n",
    "# Sort the vendors by spend in descending order\n",
    "top_vendors_by_spend = vendor_spend.sort_values(ascending=False)\n",
    "\n",
    "result_df = top_vendors_by_spend.map(lambda x: f\"{x:.2f}\" if isinstance(x, (int, float)) else x)\n",
    "\n",
    "# Display the top vendors by spend\n",
    "top_vendors_by_spend"
   ]
  },
  {
   "cell_type": "code",
   "execution_count": 50,
   "id": "f33148be",
   "metadata": {},
   "outputs": [
    {
     "data": {
      "text/plain": [
       "Cg_Normalized_Vendor\n",
       "HAUPTZOLLAMT GIESSEN                           109989042.92\n",
       "ZOLLAMT MARBURG                                 69574288.27\n",
       "FIDELITY FPRS                                   22679739.89\n",
       "PERSONALVORSORGESTIFTUNG DER CSL BEHRING AG     12880881.43\n",
       "HAEMONETICS CORP                                11897826.51\n",
       "                                                   ...     \n",
       "FOUR LEAF SUPPLY CORP                               9288.69\n",
       "PRICEWATERHOUSECOOPERS                              9193.87\n",
       "STAWIN AG                                           8987.48\n",
       "IFB                                                 8794.27\n",
       "EUROROOF GMBH                                       8759.73\n",
       "Name: Spend, Length: 358, dtype: object"
      ]
     },
     "execution_count": 50,
     "metadata": {},
     "output_type": "execute_result"
    }
   ],
   "source": [
    "result_df"
   ]
  },
  {
   "cell_type": "code",
   "execution_count": 51,
   "id": "49063e00",
   "metadata": {},
   "outputs": [
    {
     "name": "stdout",
     "output_type": "stream",
     "text": [
      "                           Cg_Normalized_Vendor Distinct_Payment_Terms\n",
      "0                                        ABBOTT           [T105, T045]\n",
      "1                           ABSG CONSULTING INC                 [T060]\n",
      "2                          AC ISOLIERUNGEN GMBH                 [T060]\n",
      "3                                 ACCENTURE PLC                 [T045]\n",
      "4                                 ACOEM USA INC                 [T060]\n",
      "..                                          ...                    ...\n",
      "353                                   ZETA GMBH           [T030, T060]\n",
      "354  ZIG ZAG SOLUCIONES CREATIVAS INTEGRALES SL                 [T060]\n",
      "355                             ZIMMERMANN GMBH     [T060, T030, T010]\n",
      "356                   ZIMMERMANN MESSTECHNIK AG                 [T030]\n",
      "357                             ZOLLAMT MARBURG                 [T060]\n",
      "\n",
      "[358 rows x 2 columns]\n"
     ]
    }
   ],
   "source": [
    "import pandas as pd\n",
    "\n",
    "# Assuming df is your already loaded DataFrame\n",
    "\n",
    "# Create the report showing distinct payment terms for each vendor\n",
    "report = df.groupby('Cg_Normalized_Vendor')['Payment terms'].unique().reset_index()\n",
    "\n",
    "# Rename the columns for clarity\n",
    "report.columns = ['Cg_Normalized_Vendor', 'Distinct_Payment_Terms']\n",
    "\n",
    "# Display the report\n",
    "print(report)"
   ]
  },
  {
   "cell_type": "code",
   "execution_count": null,
   "id": "3b75adf7",
   "metadata": {},
   "outputs": [],
   "source": []
  },
  {
   "cell_type": "code",
   "execution_count": null,
   "id": "e9360791",
   "metadata": {},
   "outputs": [],
   "source": []
  },
  {
   "cell_type": "code",
   "execution_count": null,
   "id": "760f0973",
   "metadata": {},
   "outputs": [],
   "source": []
  },
  {
   "cell_type": "code",
   "execution_count": null,
   "id": "2276f294",
   "metadata": {},
   "outputs": [],
   "source": []
  },
  {
   "cell_type": "code",
   "execution_count": null,
   "id": "e876aef6",
   "metadata": {},
   "outputs": [],
   "source": []
  },
  {
   "cell_type": "code",
   "execution_count": null,
   "id": "39da09ea",
   "metadata": {},
   "outputs": [],
   "source": []
  },
  {
   "cell_type": "code",
   "execution_count": null,
   "id": "ddd3641b",
   "metadata": {},
   "outputs": [],
   "source": []
  },
  {
   "cell_type": "code",
   "execution_count": null,
   "id": "b5728446",
   "metadata": {},
   "outputs": [],
   "source": [
    "#**Important Notes:**\n",
    "        #  * Always use `df` to refer to the current year's data.\n",
    "        #  * **Do not include any code to load the DataFrame.** They are already loaded and available in the environment.\n",
    "        #  * Your final Python code **must** have the resulting pandas DataFrame as the last variable in the code block. This DataFrame will be the output of your analysis.\n",
    "\n",
    "        #  **Output:**\n",
    "        #  Generate complete and executable pandas code that performs the requested data analysis on `primary_df`. The code should handle necessary operations and ensure the final result is a pandas DataFrame."
   ]
  }
 ],
 "metadata": {
  "kernelspec": {
   "display_name": "Python 3",
   "language": "python",
   "name": "python3"
  },
  "language_info": {
   "codemirror_mode": {
    "name": "ipython",
    "version": 3
   },
   "file_extension": ".py",
   "mimetype": "text/x-python",
   "name": "python",
   "nbconvert_exporter": "python",
   "pygments_lexer": "ipython3",
   "version": "3.11.9"
  }
 },
 "nbformat": 4,
 "nbformat_minor": 5
}
