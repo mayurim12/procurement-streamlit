{
 "cells": [
  {
   "cell_type": "code",
   "execution_count": 291,
   "id": "a262af33",
   "metadata": {},
   "outputs": [],
   "source": [
    "# !pip install pandasai\n"
   ]
  },
  {
   "cell_type": "code",
   "execution_count": 292,
   "id": "75267ac6",
   "metadata": {},
   "outputs": [],
   "source": [
    "import pandas as pd"
   ]
  },
  {
   "cell_type": "code",
   "execution_count": 293,
   "id": "f1f37bd0",
   "metadata": {},
   "outputs": [],
   "source": [
    "df = pd.read_excel('Sample Data_Copilot.xlsx')"
   ]
  },
  {
   "cell_type": "code",
   "execution_count": 294,
   "id": "e411e7cd",
   "metadata": {},
   "outputs": [],
   "source": [
    "def get_csv_schema(df) -> str:\n",
    "    \"\"\"\n",
    "    Generate schema details from the CSV.\n",
    "    \"\"\"\n",
    "    # Fetching column names and their types\n",
    "    schema_details = \"The CSV contains the following columns:\\n\"\n",
    "    # Iterating over the columns and their types\n",
    "    for column in df.columns:\n",
    "        dtype = df[column].dtype\n",
    "        schema_details += f\"- Column: *{column}*, Data Type: *{dtype}*\\n\"\n",
    "        if dtype == object:\n",
    "            schema_details += f\"Unique Values: {df[column].unique()}\"\n",
    "    # Highlighting important columns (e.g., month columns and dimensions)\n",
    "    month_columns = [\n",
    "        col\n",
    "        for col in df.columns\n",
    "        if col\n",
    "        in [\n",
    "            \"Jan\",\n",
    "            \"Feb\",\n",
    "            \"Mar\",\n",
    "            \"Apr\",\n",
    "            \"May\",\n",
    "            \"Jun\",\n",
    "            \"Jul\",\n",
    "            \"Aug\",\n",
    "            \"Sep\",\n",
    "            \"Oct\",\n",
    "            \"Nov\",\n",
    "            \"Dec\",\n",
    "        ]\n",
    "    ]\n",
    "    dimension_columns = [col for col in df.columns if col not in month_columns]\n",
    "    schema_details += \"\\n=== Special Columns ===\\n\"\n",
    "    schema_details += f\"Dimensions: {', '.join(dimension_columns)}\\n\"\n",
    "\n",
    "    return schema_details"
   ]
  },
  {
   "cell_type": "code",
   "execution_count": 295,
   "id": "8f8ef14f",
   "metadata": {},
   "outputs": [],
   "source": [
    "df_info = f\"\"\"\n",
    "Columns and their types:\n",
    "{df.dtypes.to_string()}\n",
    "\n",
    "Sample data (first few rows):\n",
    "{df.head().to_string()}\n",
    "\"\"\""
   ]
  },
  {
   "cell_type": "code",
   "execution_count": 296,
   "id": "915514cb",
   "metadata": {},
   "outputs": [],
   "source": [
    "schema = get_csv_schema(df)"
   ]
  },
  {
   "cell_type": "code",
   "execution_count": 297,
   "id": "3cb92ffc",
   "metadata": {},
   "outputs": [],
   "source": [
    "import re\n",
    "from dotenv import load_dotenv\n",
    "from openai import AzureOpenAI\n",
    "from langchain_openai import AzureChatOpenAI\n",
    "import os \n",
    "\n",
    "def init_openai_client() -> AzureChatOpenAI:\n",
    "    load_dotenv() \n",
    "\n",
    "    endpoint = os.getenv(\"AZURE_ENDPOINT\")\n",
    "    key = os.getenv(\"AZURE_API_KEY\")\n",
    "    api_version = os.getenv(\"AZURE_API_VERSION\")\n",
    "    azure_deployment = os.getenv(\"AZURE_DEPLOYMENT\")\n",
    "    # httpx_client = httpx.Client(http2=True, verify=False)\n",
    "\n",
    "    return AzureChatOpenAI(\n",
    "        api_key=key,\n",
    "        api_version=api_version,\n",
    "        azure_endpoint=endpoint,\n",
    "        azure_deployment=azure_deployment,\n",
    "        # http_client=httpx_client\n",
    "    )"
   ]
  },
  {
   "cell_type": "code",
   "execution_count": 298,
   "id": "79d5ad7d",
   "metadata": {},
   "outputs": [],
   "source": [
    "client = init_openai_client()"
   ]
  },
  {
   "cell_type": "code",
   "execution_count": null,
   "id": "49fa2ee4",
   "metadata": {},
   "outputs": [],
   "source": [
    "# df_info = get_csv_schema(df)\n",
    "\n",
    "df_info = f\"\"\"\n",
    "Columns and their types:\n",
    "{df.dtypes.to_string()}\n",
    "\n",
    "Sample data (first few rows):\n",
    "{df.head().to_string()}\n",
    "\"\"\"\n",
    "#query = \"create a report to show spend by Country Short for Professional Services from PO_L1\"\n",
    "#query = \"create visuals to show spend by PO_L1\"\n",
    "#query =\"create a report to show spend by company code\"\n",
    "query = \"create a report to show top cg_normalized_vendor by spend\"\n",
    "#query= \"Create a report to show all cg_normalized_vendor with distinct payment terms\"\n",
    "\n",
    "\n",
    "\n",
    "human_msg = f\"\"\"\n",
    "You are a data analyst assistant. You are given a DataFrame with the following structure:\n",
    "\n",
    "{df_info}\n",
    "\n",
    "Your task is to:\n",
    "1. Write clean and reproducible Python code using pandas and matplotlib to answer the following question: *{query}*.\n",
    "2. Assign the final result to a variable named `result_df`.\n",
    "3. Generate a short, natural language summary of the result and assign it to a variable named `summary_text`.\n",
    "4. Create a plot that visualizes the key insights and save it using `plt.savefig('top_vendors_plot.png')`. Adjust the plot size dynamically based on the number of data points.\n",
    "5. Do not use random sampling or introduce variability in the output.\n",
    "6. Ensure the code is deterministic and produces the same result every time it is run.\n",
    "\n",
    "Output only the Python code in a single code block.\n",
    "\"\"\"\n",
    "\n",
    "\n"
   ]
  },
  {
   "cell_type": "code",
   "execution_count": 300,
   "id": "16d6679a",
   "metadata": {},
   "outputs": [],
   "source": [
    "\n",
    "# human_msg = (\n",
    "#         f\"\\nThis is the Dataframe info : {df_info}. \"\n",
    "#         f\"\\nI need you to write a code for this question: *{query}*.\"\n",
    "#         f\"\\nAlso, please do the following:\"\n",
    "#         f\"\\n1. Generate a short summary of the result and assign it to a variable named `summary_text` in natural language which will give some insights.\"\n",
    "#         f\"\\n2. Create a plot to visualize the key insights and save it using `plt.savefig('top_vendors_plot.png')`. Also increase and decrease the plot size based on the values\"\n",
    "# )\n",
    "\n"
   ]
  },
  {
   "cell_type": "code",
   "execution_count": 301,
   "id": "d7c85233",
   "metadata": {},
   "outputs": [
    {
     "name": "stdout",
     "output_type": "stream",
     "text": [
      "\n",
      "You are a data analyst assistant. You are given a DataFrame with the following structure:\n",
      "\n",
      "\n",
      "Columns and their types:\n",
      "Cg_Normalized_Vendor                    object\n",
      "PO_L1                                   object\n",
      "PO_L2                                   object\n",
      "PO_L3                                   object\n",
      "PO_L4                                   object\n",
      "G/L Acct Long Text                      object\n",
      "Company Code                            object\n",
      "Region                                  object\n",
      "Document number                         object\n",
      "Purchasing Document                     object\n",
      "Posting Date                    datetime64[ns]\n",
      "Payment terms                           object\n",
      "Payment term No. of Days               float64\n",
      "Payment term Own Explanation            object\n",
      "Spend                                  float64\n",
      "\n",
      "Sample data (first few rows):\n",
      "  Cg_Normalized_Vendor                            PO_L1                            PO_L2                            PO_L3                            PO_L4            G/L Acct Long Text Company Code Region Document number Purchasing Document Posting Date Payment terms  Payment term No. of Days Payment term Own Explanation      Spend\n",
      "0               ABBOTT  Cleaning Equipment and Supplies  Cleaning Equipment and Supplies  Cleaning Equipment and Supplies  Cleaning Equipment and Supplies        Supplies Lab Materials         1011     DE      6111959462          4400642682   2025-02-20          T105                      10.0         10 days 1.5%, net 30  237674.75\n",
      "1               ABBOTT  Cleaning Equipment and Supplies  Cleaning Equipment and Supplies  Cleaning Equipment and Supplies  Cleaning Equipment and Supplies        Supplies Lab Materials         1011     DE      6111975859          4400642682   2025-03-06          T105                      10.0         10 days 1.5%, net 30  211321.63\n",
      "2               ABBOTT  Cleaning Equipment and Supplies  Cleaning Equipment and Supplies  Cleaning Equipment and Supplies  Cleaning Equipment and Supplies        Supplies Lab Materials         1011     DE      6111902324          4400642682   2025-01-06          T105                      10.0         10 days 1.5%, net 30  200296.33\n",
      "3               ABBOTT  Cleaning Equipment and Supplies  Cleaning Equipment and Supplies  Cleaning Equipment and Supplies  Cleaning Equipment and Supplies  Trade Creditors GR/IR (Auto)         2015     US      6111986007          4400729343   2025-03-13          T045                      45.0                  Net 45 Days  166367.98\n",
      "4               ABBOTT  Cleaning Equipment and Supplies  Cleaning Equipment and Supplies  Cleaning Equipment and Supplies  Cleaning Equipment and Supplies        Supplies Lab Materials         1011     DE      6111974549          4400642682   2025-03-05          T105                      10.0         10 days 1.5%, net 30    9290.59\n",
      "\n",
      "\n",
      "Your task is to:\n",
      "1. Write clean and reproducible Python code using pandas and matplotlib to answer the following question: *create a report to show spend by company code*.\n",
      "2. Assign the final result to a variable named `result_df`.\n",
      "3. Generate a short, natural language summary of the result and assign it to a variable named `summary_text`.\n",
      "4. Create a plot that visualizes the key insights and save it using `plt.savefig('top_vendors_plot.png')`. Adjust the plot size dynamically based on the number of data points.\n",
      "5. Do not use random sampling or introduce variability in the output.\n",
      "6. Ensure the code is deterministic and produces the same result every time it is run.\n",
      "\n",
      "Output only the Python code in a single code block.\n",
      "\n"
     ]
    }
   ],
   "source": [
    "print(human_msg)"
   ]
  },
  {
   "cell_type": "code",
   "execution_count": 302,
   "id": "0b18488c",
   "metadata": {},
   "outputs": [],
   "source": [
    "# system_message = \"\"\" \n",
    "# You are a Python code generator. You will be given a pandas DataFrame and a question. \n",
    "# **Important Notes:**\n",
    "#          * Always use `df` to refer to the current year's data.\n",
    "#          * **Do not include any code to load the DataFrame.** They are already loaded and available in the environment.\n",
    "#          * Your final Python code **must** have the resulting pandas DataFrame as the last variable in the code block. This DataFrame will be the output of your analysis.\n",
    "\n",
    "#          **Output:**\n",
    "#          Generate complete and executable pandas code that performs the requested data analysis on `df`. The code should handle necessary operations and ensure the final result is a pandas DataFrame.\n",
    "# \"\"\"\n",
    "# messages = [\n",
    "#     {\"role\": \"human\", \"content\": system_message},\n",
    "#     {\"role\": \"user\", \"content\": human_msg }\n",
    "# ]\n",
    "\n",
    "# response = client.invoke(messages)\n",
    "\n",
    "\n"
   ]
  },
  {
   "cell_type": "code",
   "execution_count": 303,
   "id": "badf6d1c",
   "metadata": {},
   "outputs": [],
   "source": [
    "import pandas as pd \n",
    "import numpy as np\n",
    "\n",
    "def extract_python_code(text):\n",
    "    match = re.search(r\"```python\\n(.*?)\\n```\", text, re.DOTALL)\n",
    "    return match.group(1) if match else \"\" \n",
    "\n",
    "def execute_pandas_code(code):\n",
    "    import os\n",
    "\n",
    "    local_vars = {\"df\": df}\n",
    "    globals_dict = {\n",
    "        \"pd\": pd,\n",
    "        \"np\": np,\n",
    "        \"plt\": __import__(\"matplotlib.pyplot\"),\n",
    "    }\n",
    "\n",
    "    try:\n",
    "        clean_code = extract_python_code(code)\n",
    "        print(\"\\n\\nClean Code:\\n\", clean_code)\n",
    "        exec(clean_code, globals_dict, local_vars)\n",
    "\n",
    "        result_vars = [\n",
    "            var for var in local_vars.keys()\n",
    "            if isinstance(local_vars[var], pd.DataFrame)\n",
    "        ]\n",
    "\n",
    "        result_df = local_vars[result_vars[-1]] if result_vars else None\n",
    "\n",
    "        # Extract summary if available\n",
    "        summary_text = local_vars.get(\"summary_text\", \"No summary was generated.\")\n",
    "\n",
    "        # Detect plot file\n",
    "        plot_file = None\n",
    "        for file in os.listdir():\n",
    "            if file.endswith(\".png\"):\n",
    "                plot_file = file\n",
    "                break\n",
    "\n",
    "        if isinstance(result_df, pd.DataFrame) and not result_df.empty:\n",
    "            return {\n",
    "                \"final_response\": {\n",
    "                    \"is_pandas_code\": True,\n",
    "                    \"pandas_code\": clean_code,\n",
    "                    \"response_content\": result_df,\n",
    "                    \"summary\": summary_text,\n",
    "                    \"plot_path\": plot_file,\n",
    "                }\n",
    "            }\n",
    "\n",
    "        return {\n",
    "            \"final_response\": {\n",
    "                \"is_pandas_code\": False,\n",
    "                \"pandas_code\": clean_code,\n",
    "                \"response_content\": \"Execution successful but returned no data.\",\n",
    "                \"summary\": summary_text,\n",
    "                \"plot_path\": plot_file,\n",
    "            }\n",
    "        }\n",
    "\n",
    "    except Exception as e:\n",
    "        return {\n",
    "            \"final_response\": {\n",
    "                \"is_pandas_code\": False,\n",
    "                \"pandas_code\": None,\n",
    "                \"response_content\": f\"An error occurred: {str(e)}\",\n",
    "                \"summary\": None,\n",
    "                \"plot_path\": None,\n",
    "            }\n",
    "        }\n"
   ]
  },
  {
   "cell_type": "code",
   "execution_count": 304,
   "id": "b739c1fe",
   "metadata": {},
   "outputs": [
    {
     "name": "stdout",
     "output_type": "stream",
     "text": [
      "\n",
      "\n",
      "Clean Code:\n",
      " import pandas as pd\n",
      "import matplotlib.pyplot as plt\n",
      "\n",
      "# Assuming df is the DataFrame containing the data\n",
      "# Grouping the data by 'Company Code' and summing the 'Spend'\n",
      "result_df = df.groupby('Company Code')['Spend'].sum().reset_index()\n",
      "\n",
      "# Sorting the results in descending order\n",
      "result_df = result_df.sort_values(by='Spend', ascending=False)\n",
      "\n",
      "# Generating a summary text\n",
      "summary_text = f\"The total spend by company code is summarized in the result DataFrame. \" \\\n",
      "               f\"The company with the highest spend is {result_df.iloc[0]['Company Code']} \" \\\n",
      "               f\"with a total spend of ${result_df.iloc[0]['Spend']:,.2f}.\"\n",
      "\n",
      "# Creating a plot to visualize the spend by company code\n",
      "plt.figure(figsize=(10, len(result_df) * 0.5))  # Adjusting size based on number of entries\n",
      "plt.barh(result_df['Company Code'], result_df['Spend'], color='skyblue')\n",
      "plt.xlabel('Total Spend ($)')\n",
      "plt.title('Total Spend by Company Code')\n",
      "plt.grid(axis='x')\n",
      "\n",
      "# Saving the plot\n",
      "plt.savefig('top_vendors_plot.png')\n",
      "plt.close()\n",
      "+++++++++++++++++++++++++++++++\n",
      "result_df:\n",
      " An error occurred: the dtypes of parameters y (object) and height (float64) are incompatible\n",
      "++++++++++++++++++++++++++++++++\n",
      "Summary:\n",
      " None\n",
      "+++++++++++++++++++++++++++\n",
      "Plot saved at: None\n"
     ]
    },
    {
     "data": {
      "image/png": "[encoded data removed]",
      "text/plain": [
       "<Figure size 1000x1950 with 1 Axes>"
      ]
     },
     "metadata": {},
     "output_type": "display_data"
    }
   ],
   "source": [
    "ai_response = client.invoke(human_msg)\n",
    "response = execute_pandas_code(ai_response.content)\n",
    "\n",
    "# Access the results\n",
    "result_df = response[\"final_response\"][\"response_content\"]\n",
    "summary = response[\"final_response\"].get(\"summary\", \"No summary provided.\")\n",
    "plot_path = response[\"final_response\"].get(\"plot_path\", \"No plot generated.\")\n",
    "\n",
    "# Print or use them\n",
    "print('+++++++++++++++++++++++++++++++')\n",
    "print(\"result_df:\\n\",result_df)\n",
    "print('++++++++++++++++++++++++++++++++')\n",
    "print(\"Summary:\\n\", summary)\n",
    "print('+++++++++++++++++++++++++++')\n",
    "print(\"Plot saved at:\", plot_path)\n"
   ]
  },
  {
   "cell_type": "code",
   "execution_count": 305,
   "id": "23145fc3",
   "metadata": {},
   "outputs": [
    {
     "data": {
      "text/html": [
       "<div>\n",
       "<style scoped>\n",
       "    .dataframe tbody tr th:only-of-type {\n",
       "        vertical-align: middle;\n",
       "    }\n",
       "\n",
       "    .dataframe tbody tr th {\n",
       "        vertical-align: top;\n",
       "    }\n",
       "\n",
       "    .dataframe thead th {\n",
       "        text-align: right;\n",
       "    }\n",
       "</style>\n",
       "<table border=\"1\" class=\"dataframe\">\n",
       "  <thead>\n",
       "    <tr style=\"text-align: right;\">\n",
       "      <th></th>\n",
       "      <th>Cg_Normalized_Vendor</th>\n",
       "      <th>PO_L1</th>\n",
       "      <th>PO_L2</th>\n",
       "      <th>PO_L3</th>\n",
       "      <th>PO_L4</th>\n",
       "      <th>G/L Acct Long Text</th>\n",
       "      <th>Company Code</th>\n",
       "      <th>Region</th>\n",
       "      <th>Document number</th>\n",
       "      <th>Purchasing Document</th>\n",
       "      <th>Posting Date</th>\n",
       "      <th>Payment terms</th>\n",
       "      <th>Payment term No. of Days</th>\n",
       "      <th>Payment term Own Explanation</th>\n",
       "      <th>Spend</th>\n",
       "    </tr>\n",
       "  </thead>\n",
       "  <tbody>\n",
       "    <tr>\n",
       "      <th>0</th>\n",
       "      <td>ABBOTT</td>\n",
       "      <td>Cleaning Equipment and Supplies</td>\n",
       "      <td>Cleaning Equipment and Supplies</td>\n",
       "      <td>Cleaning Equipment and Supplies</td>\n",
       "      <td>Cleaning Equipment and Supplies</td>\n",
       "      <td>Supplies Lab Materials</td>\n",
       "      <td>1011</td>\n",
       "      <td>DE</td>\n",
       "      <td>6111959462</td>\n",
       "      <td>4400642682</td>\n",
       "      <td>2025-02-20</td>\n",
       "      <td>T105</td>\n",
       "      <td>10.0</td>\n",
       "      <td>10 days 1.5%, net 30</td>\n",
       "      <td>237674.75</td>\n",
       "    </tr>\n",
       "    <tr>\n",
       "      <th>1</th>\n",
       "      <td>ABBOTT</td>\n",
       "      <td>Cleaning Equipment and Supplies</td>\n",
       "      <td>Cleaning Equipment and Supplies</td>\n",
       "      <td>Cleaning Equipment and Supplies</td>\n",
       "      <td>Cleaning Equipment and Supplies</td>\n",
       "      <td>Supplies Lab Materials</td>\n",
       "      <td>1011</td>\n",
       "      <td>DE</td>\n",
       "      <td>6111975859</td>\n",
       "      <td>4400642682</td>\n",
       "      <td>2025-03-06</td>\n",
       "      <td>T105</td>\n",
       "      <td>10.0</td>\n",
       "      <td>10 days 1.5%, net 30</td>\n",
       "      <td>211321.63</td>\n",
       "    </tr>\n",
       "    <tr>\n",
       "      <th>2</th>\n",
       "      <td>ABBOTT</td>\n",
       "      <td>Cleaning Equipment and Supplies</td>\n",
       "      <td>Cleaning Equipment and Supplies</td>\n",
       "      <td>Cleaning Equipment and Supplies</td>\n",
       "      <td>Cleaning Equipment and Supplies</td>\n",
       "      <td>Supplies Lab Materials</td>\n",
       "      <td>1011</td>\n",
       "      <td>DE</td>\n",
       "      <td>6111902324</td>\n",
       "      <td>4400642682</td>\n",
       "      <td>2025-01-06</td>\n",
       "      <td>T105</td>\n",
       "      <td>10.0</td>\n",
       "      <td>10 days 1.5%, net 30</td>\n",
       "      <td>200296.33</td>\n",
       "    </tr>\n",
       "    <tr>\n",
       "      <th>3</th>\n",
       "      <td>ABBOTT</td>\n",
       "      <td>Cleaning Equipment and Supplies</td>\n",
       "      <td>Cleaning Equipment and Supplies</td>\n",
       "      <td>Cleaning Equipment and Supplies</td>\n",
       "      <td>Cleaning Equipment and Supplies</td>\n",
       "      <td>Trade Creditors GR/IR (Auto)</td>\n",
       "      <td>2015</td>\n",
       "      <td>US</td>\n",
       "      <td>6111986007</td>\n",
       "      <td>4400729343</td>\n",
       "      <td>2025-03-13</td>\n",
       "      <td>T045</td>\n",
       "      <td>45.0</td>\n",
       "      <td>Net 45 Days</td>\n",
       "      <td>166367.98</td>\n",
       "    </tr>\n",
       "    <tr>\n",
       "      <th>4</th>\n",
       "      <td>ABBOTT</td>\n",
       "      <td>Cleaning Equipment and Supplies</td>\n",
       "      <td>Cleaning Equipment and Supplies</td>\n",
       "      <td>Cleaning Equipment and Supplies</td>\n",
       "      <td>Cleaning Equipment and Supplies</td>\n",
       "      <td>Supplies Lab Materials</td>\n",
       "      <td>1011</td>\n",
       "      <td>DE</td>\n",
       "      <td>6111974549</td>\n",
       "      <td>4400642682</td>\n",
       "      <td>2025-03-05</td>\n",
       "      <td>T105</td>\n",
       "      <td>10.0</td>\n",
       "      <td>10 days 1.5%, net 30</td>\n",
       "      <td>9290.59</td>\n",
       "    </tr>\n",
       "  </tbody>\n",
       "</table>\n",
       "</div>"
      ],
      "text/plain": [
       "  Cg_Normalized_Vendor                            PO_L1  \\\n",
       "0               ABBOTT  Cleaning Equipment and Supplies   \n",
       "1               ABBOTT  Cleaning Equipment and Supplies   \n",
       "2               ABBOTT  Cleaning Equipment and Supplies   \n",
       "3               ABBOTT  Cleaning Equipment and Supplies   \n",
       "4               ABBOTT  Cleaning Equipment and Supplies   \n",
       "\n",
       "                             PO_L2                            PO_L3  \\\n",
       "0  Cleaning Equipment and Supplies  Cleaning Equipment and Supplies   \n",
       "1  Cleaning Equipment and Supplies  Cleaning Equipment and Supplies   \n",
       "2  Cleaning Equipment and Supplies  Cleaning Equipment and Supplies   \n",
       "3  Cleaning Equipment and Supplies  Cleaning Equipment and Supplies   \n",
       "4  Cleaning Equipment and Supplies  Cleaning Equipment and Supplies   \n",
       "\n",
       "                             PO_L4            G/L Acct Long Text Company Code  \\\n",
       "0  Cleaning Equipment and Supplies        Supplies Lab Materials         1011   \n",
       "1  Cleaning Equipment and Supplies        Supplies Lab Materials         1011   \n",
       "2  Cleaning Equipment and Supplies        Supplies Lab Materials         1011   \n",
       "3  Cleaning Equipment and Supplies  Trade Creditors GR/IR (Auto)         2015   \n",
       "4  Cleaning Equipment and Supplies        Supplies Lab Materials         1011   \n",
       "\n",
       "  Region Document number Purchasing Document Posting Date Payment terms  \\\n",
       "0     DE      6111959462          4400642682   2025-02-20          T105   \n",
       "1     DE      6111975859          4400642682   2025-03-06          T105   \n",
       "2     DE      6111902324          4400642682   2025-01-06          T105   \n",
       "3     US      6111986007          4400729343   2025-03-13          T045   \n",
       "4     DE      6111974549          4400642682   2025-03-05          T105   \n",
       "\n",
       "   Payment term No. of Days Payment term Own Explanation      Spend  \n",
       "0                      10.0         10 days 1.5%, net 30  237674.75  \n",
       "1                      10.0         10 days 1.5%, net 30  211321.63  \n",
       "2                      10.0         10 days 1.5%, net 30  200296.33  \n",
       "3                      45.0                  Net 45 Days  166367.98  \n",
       "4                      10.0         10 days 1.5%, net 30    9290.59  "
      ]
     },
     "execution_count": 305,
     "metadata": {},
     "output_type": "execute_result"
    }
   ],
   "source": [
    "df.head()"
   ]
  },
  {
   "cell_type": "code",
   "execution_count": 310,
   "id": "4be785a0",
   "metadata": {},
   "outputs": [
    {
     "data": {
      "text/plain": [
       "array([1011, 2015, 1095, 2012, 2010, 619, 4015, 606, 605, 603, 3075, 302,\n",
       "       1010, 1040, 3065, 1080, 1070, 618, 3085, 4020, 1017, '3030-APAC',\n",
       "       3010, 1023, 1094, 115, 1012, 620, 4030, 2016, 1098, 1026, 1030,\n",
       "       1060, 150, 1050, 4025, 1020, 625], dtype=object)"
      ]
     },
     "execution_count": 310,
     "metadata": {},
     "output_type": "execute_result"
    }
   ],
   "source": [
    "df['Company Code'].unique()"
   ]
  },
  {
   "cell_type": "code",
   "execution_count": 306,
   "id": "d72a4132",
   "metadata": {},
   "outputs": [
    {
     "data": {
      "text/plain": [
       "AIMessage(content=\"```python\\nimport pandas as pd\\nimport matplotlib.pyplot as plt\\n\\n# Assuming df is the DataFrame already loaded with the provided structure\\n\\n# Grouping the data by 'Company Code' and summing the 'Spend'\\nresult_df = df.groupby('Company Code')['Spend'].sum().reset_index()\\n\\n# Sorting the result by Spend in descending order for better visualization\\nresult_df = result_df.sort_values(by='Spend', ascending=False)\\n\\n# Generating a summary text\\nsummary_text = f'The report shows the total spend by company code. The total spend for each company code is calculated, with the highest spend appearing at the top.'\\n\\n# Plotting the results\\nplt.figure(figsize=(10, len(result_df) * 0.5))  # Adjusting plot size based on the number of data points\\nplt.bar(result_df['Company Code'], result_df['Spend'], color='blue')\\nplt.xlabel('Company Code')\\nplt.ylabel('Total Spend')\\nplt.title('Total Spend by Company Code')\\nplt.xticks(rotation=45)\\nplt.tight_layout()\\n\\n# Saving the plot\\nplt.savefig('top_vendors_plot.png')\\n\\n# Display the result\\nresult_df, summary_text\\n```\", additional_kwargs={'refusal': None}, response_metadata={'token_usage': {'completion_tokens': 241, 'prompt_tokens': 748, 'total_tokens': 989, 'completion_tokens_details': {'audio_tokens': 0, 'reasoning_tokens': 0, 'accepted_prediction_tokens': 0, 'rejected_prediction_tokens': 0}, 'prompt_tokens_details': {'audio_tokens': 0, 'cached_tokens': 0}}, 'model_name': 'gpt-4o-mini-2024-07-18', 'system_fingerprint': 'fp_ded0d14823', 'prompt_filter_results': [{'prompt_index': 0, 'content_filter_results': {'hate': {'filtered': False, 'severity': 'safe'}, 'jailbreak': {'filtered': False, 'detected': False}, 'self_harm': {'filtered': False, 'severity': 'safe'}, 'sexual': {'filtered': False, 'severity': 'safe'}, 'violence': {'filtered': False, 'severity': 'safe'}}}], 'finish_reason': 'stop', 'logprobs': None, 'content_filter_results': {'hate': {'filtered': False, 'severity': 'safe'}, 'protected_material_code': {'filtered': False, 'detected': False}, 'protected_material_text': {'filtered': False, 'detected': False}, 'self_harm': {'filtered': False, 'severity': 'safe'}, 'sexual': {'filtered': False, 'severity': 'safe'}, 'violence': {'filtered': False, 'severity': 'safe'}}}, id='run-cb6b7e33-0b0c-40da-9137-300b138fa662-0', usage_metadata={'input_tokens': 748, 'output_tokens': 241, 'total_tokens': 989, 'input_token_details': {'audio': 0, 'cache_read': 0}, 'output_token_details': {'audio': 0, 'reasoning': 0}})"
      ]
     },
     "execution_count": 306,
     "metadata": {},
     "output_type": "execute_result"
    }
   ],
   "source": [
    "ai_response = client.invoke(human_msg)\n",
    "ai_response"
   ]
  },
  {
   "cell_type": "code",
   "execution_count": 307,
   "id": "b54b51b2",
   "metadata": {},
   "outputs": [
    {
     "name": "stdout",
     "output_type": "stream",
     "text": [
      "\n",
      "\n",
      "Clean Code:\n",
      " import pandas as pd\n",
      "import matplotlib.pyplot as plt\n",
      "\n",
      "# Assuming df is the DataFrame already loaded with the provided structure\n",
      "\n",
      "# Grouping the data by 'Company Code' and summing the 'Spend'\n",
      "result_df = df.groupby('Company Code')['Spend'].sum().reset_index()\n",
      "\n",
      "# Sorting the result by Spend in descending order for better visualization\n",
      "result_df = result_df.sort_values(by='Spend', ascending=False)\n",
      "\n",
      "# Generating a summary text\n",
      "summary_text = f'The report shows the total spend by company code. The total spend for each company code is calculated, with the highest spend appearing at the top.'\n",
      "\n",
      "# Plotting the results\n",
      "plt.figure(figsize=(10, len(result_df) * 0.5))  # Adjusting plot size based on the number of data points\n",
      "plt.bar(result_df['Company Code'], result_df['Spend'], color='blue')\n",
      "plt.xlabel('Company Code')\n",
      "plt.ylabel('Total Spend')\n",
      "plt.title('Total Spend by Company Code')\n",
      "plt.xticks(rotation=45)\n",
      "plt.tight_layout()\n",
      "\n",
      "# Saving the plot\n",
      "plt.savefig('top_vendors_plot.png')\n",
      "\n",
      "# Display the result\n",
      "result_df, summary_text\n"
     ]
    },
    {
     "data": {
      "text/plain": [
       "{'final_response': {'is_pandas_code': False,\n",
       "  'pandas_code': None,\n",
       "  'response_content': 'An error occurred: the dtypes of parameters x (object) and width (float64) are incompatible',\n",
       "  'summary': None,\n",
       "  'plot_path': None}}"
      ]
     },
     "execution_count": 307,
     "metadata": {},
     "output_type": "execute_result"
    },
    {
     "data": {
      "image/png": "[encoded data removed]",
      "text/plain": [
       "<Figure size 1000x1950 with 1 Axes>"
      ]
     },
     "metadata": {},
     "output_type": "display_data"
    }
   ],
   "source": [
    "response = execute_pandas_code(ai_response.content)\n",
    "response\n"
   ]
  },
  {
   "cell_type": "code",
   "execution_count": 308,
   "id": "1afda3e5",
   "metadata": {},
   "outputs": [
    {
     "data": {
      "text/plain": [
       "'An error occurred: the dtypes of parameters x (object) and width (float64) are incompatible'"
      ]
     },
     "execution_count": 308,
     "metadata": {},
     "output_type": "execute_result"
    }
   ],
   "source": [
    "response[\"final_response\"][\"response_content\"]"
   ]
  },
  {
   "cell_type": "code",
   "execution_count": null,
   "id": "3ccdf481",
   "metadata": {},
   "outputs": [],
   "source": []
  }
 ],
 "metadata": {
  "kernelspec": {
   "display_name": "Python 3",
   "language": "python",
   "name": "python3"
  },
  "language_info": {
   "codemirror_mode": {
    "name": "ipython",
    "version": 3
   },
   "file_extension": ".py",
   "mimetype": "text/x-python",
   "name": "python",
   "nbconvert_exporter": "python",
   "pygments_lexer": "ipython3",
   "version": "3.11.9"
  }
 },
 "nbformat": 4,
 "nbformat_minor": 5
}
